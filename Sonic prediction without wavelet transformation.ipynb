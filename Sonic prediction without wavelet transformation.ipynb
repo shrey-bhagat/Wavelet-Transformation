{
 "cells": [
  {
   "cell_type": "markdown",
   "metadata": {
    "colab_type": "text",
    "id": "DgVm9bCxO63P"
   },
   "source": [
    "# Synthetic Sonic Log Generation"
   ]
  },
  {
   "cell_type": "code",
   "execution_count": 1,
   "metadata": {
    "colab": {},
    "colab_type": "code",
    "id": "kQHOj1j2O63V"
   },
   "outputs": [],
   "source": [
    "# import libraries\n",
    "# For Suppressing Warnings\n",
    "from warnings import simplefilter\n",
    "simplefilter(action='ignore', category=FutureWarning)\n",
    "# general\n",
    "import pandas as pd\n",
    "import numpy as np\n",
    "# Plotting Libraries\n",
    "%matplotlib inline\n",
    "import matplotlib.pyplot as plt\n",
    "import seaborn as sns\n",
    "# sklearn libararies\n",
    "from sklearn.model_selection import train_test_split\n",
    "from sklearn.metrics import mean_squared_error,r2_score\n",
    "# ML Model\n",
    "import xgboost as xgb\n",
    "# For Automatic EDA\n",
    "#from pandas_profiling import ProfileReport"
   ]
  },
  {
   "cell_type": "code",
   "execution_count": 2,
   "metadata": {
    "colab": {
     "base_uri": "https://localhost:8080/",
     "height": 420
    },
    "colab_type": "code",
    "executionInfo": {
     "elapsed": 25107,
     "status": "ok",
     "timestamp": 1588908805816,
     "user": {
      "displayName": "Shreshth Srivastav",
      "photoUrl": "https://lh3.googleusercontent.com/a-/AOh14Gi1YgFmTfr4Fvt3RAQyw8NmjlSXq8uoHYpZGV4PDg=s64",
      "userId": "04903011722144700149"
     },
     "user_tz": -330
    },
    "id": "TK0tCXWcriD8",
    "outputId": "e94aa42e-6478-40e7-b1ed-163b5a2cc45d"
   },
   "outputs": [
    {
     "name": "stdout",
     "output_type": "stream",
     "text": [
      "--2020-05-08 03:33:10--  https://github.com/pddasig/Machine-Learning-Competition-2020/blob/master/Data3_1_2020.zip?raw=true\n",
      "Resolving github.com (github.com)... 140.82.113.4\n",
      "Connecting to github.com (github.com)|140.82.113.4|:443... connected.\n",
      "HTTP request sent, awaiting response... 302 Found\n",
      "Location: https://github.com/pddasig/Machine-Learning-Competition-2020/raw/master/Data3_1_2020.zip [following]\n",
      "--2020-05-08 03:33:10--  https://github.com/pddasig/Machine-Learning-Competition-2020/raw/master/Data3_1_2020.zip\n",
      "Reusing existing connection to github.com:443.\n",
      "HTTP request sent, awaiting response... 302 Found\n",
      "Location: https://raw.githubusercontent.com/pddasig/Machine-Learning-Competition-2020/master/Data3_1_2020.zip [following]\n",
      "--2020-05-08 03:33:10--  https://raw.githubusercontent.com/pddasig/Machine-Learning-Competition-2020/master/Data3_1_2020.zip\n",
      "Resolving raw.githubusercontent.com (raw.githubusercontent.com)... 151.101.0.133, 151.101.64.133, 151.101.128.133, ...\n",
      "Connecting to raw.githubusercontent.com (raw.githubusercontent.com)|151.101.0.133|:443... connected.\n",
      "HTTP request sent, awaiting response... 200 OK\n",
      "Length: 982106 (959K) [application/zip]\n",
      "Saving to: ‘data/Data3_1_2020.zip?raw=true’\n",
      "\n",
      "\r",
      "          Data3_1_2   0%[                    ]       0  --.-KB/s               \r",
      "Data3_1_2020.zip?ra 100%[===================>] 959.09K  --.-KB/s    in 0.1s    \n",
      "\n",
      "2020-05-08 03:33:11 (9.16 MB/s) - ‘data/Data3_1_2020.zip?raw=true’ saved [982106/982106]\n",
      "\n",
      "Archive:  data/Data3_1_2020.zip?raw=true\n",
      "  inflating: data/sample_submission.csv  \n",
      "  inflating: data/test.csv           \n",
      "  inflating: data/train.csv          \n"
     ]
    }
   ],
   "source": [
    "! mkdir data\n",
    "! wget -P data https://github.com/pddasig/Machine-Learning-Competition-2020/blob/master/Data3_1_2020.zip?raw=true\n",
    "! unzip data/Data3_1_2020.zip?raw=true -d data\n",
    "! rm data/Data3_1_2020.zip?raw=true"
   ]
  },
  {
   "cell_type": "code",
   "execution_count": 3,
   "metadata": {
    "colab": {
     "base_uri": "https://localhost:8080/",
     "height": 34
    },
    "colab_type": "code",
    "executionInfo": {
     "elapsed": 3013,
     "status": "ok",
     "timestamp": 1588909027705,
     "user": {
      "displayName": "Shreshth Srivastav",
      "photoUrl": "https://lh3.googleusercontent.com/a-/AOh14Gi1YgFmTfr4Fvt3RAQyw8NmjlSXq8uoHYpZGV4PDg=s64",
      "userId": "04903011722144700149"
     },
     "user_tz": -330
    },
    "id": "Thf-P9HssWYN",
    "outputId": "28c0173f-c61e-4158-fe38-ae2700101319"
   },
   "outputs": [
    {
     "name": "stdout",
     "output_type": "stream",
     "text": [
      "sample_submission.csv  test.csv  train.csv\n"
     ]
    }
   ],
   "source": [
    "! ls data"
   ]
  },
  {
   "cell_type": "code",
   "execution_count": 4,
   "metadata": {
    "colab": {
     "base_uri": "https://localhost:8080/",
     "height": 202
    },
    "colab_type": "code",
    "executionInfo": {
     "elapsed": 3110,
     "status": "ok",
     "timestamp": 1588909031838,
     "user": {
      "displayName": "Shreshth Srivastav",
      "photoUrl": "https://lh3.googleusercontent.com/a-/AOh14Gi1YgFmTfr4Fvt3RAQyw8NmjlSXq8uoHYpZGV4PDg=s64",
      "userId": "04903011722144700149"
     },
     "user_tz": -330
    },
    "id": "oUvsMWk0W97M",
    "outputId": "49a1f39e-0e8f-466a-e4cb-e610e9bdfa09"
   },
   "outputs": [
    {
     "name": "stdout",
     "output_type": "stream",
     "text": [
      "--2020-05-08 03:37:09--  https://raw.githubusercontent.com/choukha/pddata/master/real_result_20perc.csv\n",
      "Resolving raw.githubusercontent.com (raw.githubusercontent.com)... 151.101.0.133, 151.101.64.133, 151.101.128.133, ...\n",
      "Connecting to raw.githubusercontent.com (raw.githubusercontent.com)|151.101.0.133|:443... connected.\n",
      "HTTP request sent, awaiting response... 200 OK\n",
      "Length: 148252 (145K) [text/plain]\n",
      "Saving to: ‘real_result_20perc.csv’\n",
      "\n",
      "\r",
      "real_result_20perc.   0%[                    ]       0  --.-KB/s               \r",
      "real_result_20perc. 100%[===================>] 144.78K  --.-KB/s    in 0.03s   \n",
      "\n",
      "2020-05-08 03:37:10 (4.19 MB/s) - ‘real_result_20perc.csv’ saved [148252/148252]\n",
      "\n"
     ]
    }
   ],
   "source": [
    "# We also need to download the blind test dataset from 20% of the hidden dataset, which we received over the email and then uploaded to github\n",
    "! wget https://raw.githubusercontent.com/choukha/pddata/master/real_result_20perc.csv"
   ]
  },
  {
   "cell_type": "code",
   "execution_count": 2,
   "metadata": {
    "colab": {},
    "colab_type": "code",
    "id": "saGFcTaRO63Z",
    "scrolled": true
   },
   "outputs": [],
   "source": [
    "# Training Data\n",
    "df = pd.read_csv('train.csv')"
   ]
  },
  {
   "cell_type": "code",
   "execution_count": 3,
   "metadata": {
    "colab": {},
    "colab_type": "code",
    "id": "dwg29zZ5YJt6"
   },
   "outputs": [],
   "source": [
    "# Small Test Dataset ( 20% )\n",
    "dt = pd.read_csv('real_result_20perc.csv')"
   ]
  },
  {
   "cell_type": "code",
   "execution_count": 4,
   "metadata": {
    "colab": {},
    "colab_type": "code",
    "id": "nhOzj9tYX_41"
   },
   "outputs": [],
   "source": [
    "# TEST FILE\n",
    "test = pd.read_csv(\"test.csv\")"
   ]
  },
  {
   "cell_type": "code",
   "execution_count": 5,
   "metadata": {
    "colab": {
     "base_uri": "https://localhost:8080/",
     "height": 34
    },
    "colab_type": "code",
    "executionInfo": {
     "elapsed": 21049,
     "status": "ok",
     "timestamp": 1588907660397,
     "user": {
      "displayName": "Choukha Ram",
      "photoUrl": "https://lh3.googleusercontent.com/-_bbIycK5-l8/AAAAAAAAAAI/AAAAAAAAEgg/_N8TINmopSY/s64/photo.jpg",
      "userId": "04245716189834799242"
     },
     "user_tz": -120
    },
    "id": "-cy4hqH0VvB8",
    "outputId": "e0e699cf-48e3-4283-de57-b29dd1162d46"
   },
   "outputs": [
    {
     "name": "stdout",
     "output_type": "stream",
     "text": [
      "(30143, 9) (2217, 9) (11088, 7)\n"
     ]
    }
   ],
   "source": [
    "print(df.shape,dt.shape,test.shape)"
   ]
  },
  {
   "cell_type": "code",
   "execution_count": 6,
   "metadata": {
    "colab": {
     "base_uri": "https://localhost:8080/",
     "height": 34
    },
    "colab_type": "code",
    "executionInfo": {
     "elapsed": 21017,
     "status": "ok",
     "timestamp": 1588907660398,
     "user": {
      "displayName": "Choukha Ram",
      "photoUrl": "https://lh3.googleusercontent.com/-_bbIycK5-l8/AAAAAAAAAAI/AAAAAAAAEgg/_N8TINmopSY/s64/photo.jpg",
      "userId": "04245716189834799242"
     },
     "user_tz": -120
    },
    "id": "08kCfDDsAR0a",
    "outputId": "ecdc3c69-aa3d-4555-e84f-f8f929ab47b3"
   },
   "outputs": [
    {
     "data": {
      "text/plain": [
       "Index(['CAL', 'CNC', 'GR', 'HRD', 'HRM', 'PE', 'ZDEN', 'DTC', 'DTS'], dtype='object')"
      ]
     },
     "execution_count": 6,
     "metadata": {},
     "output_type": "execute_result"
    }
   ],
   "source": [
    "df.columns"
   ]
  },
  {
   "cell_type": "code",
   "execution_count": 7,
   "metadata": {
    "colab": {
     "base_uri": "https://localhost:8080/",
     "height": 297
    },
    "colab_type": "code",
    "executionInfo": {
     "elapsed": 21459,
     "status": "ok",
     "timestamp": 1588907660879,
     "user": {
      "displayName": "Choukha Ram",
      "photoUrl": "https://lh3.googleusercontent.com/-_bbIycK5-l8/AAAAAAAAAAI/AAAAAAAAEgg/_N8TINmopSY/s64/photo.jpg",
      "userId": "04245716189834799242"
     },
     "user_tz": -120
    },
    "id": "zudcjTLwZe1_",
    "outputId": "ae20cf20-eddc-4368-ea40-bfee0b5b0348"
   },
   "outputs": [
    {
     "data": {
      "text/html": [
       "<div>\n",
       "<style scoped>\n",
       "    .dataframe tbody tr th:only-of-type {\n",
       "        vertical-align: middle;\n",
       "    }\n",
       "\n",
       "    .dataframe tbody tr th {\n",
       "        vertical-align: top;\n",
       "    }\n",
       "\n",
       "    .dataframe thead th {\n",
       "        text-align: right;\n",
       "    }\n",
       "</style>\n",
       "<table border=\"1\" class=\"dataframe\">\n",
       "  <thead>\n",
       "    <tr style=\"text-align: right;\">\n",
       "      <th></th>\n",
       "      <th>CAL</th>\n",
       "      <th>CNC</th>\n",
       "      <th>GR</th>\n",
       "      <th>HRD</th>\n",
       "      <th>HRM</th>\n",
       "      <th>PE</th>\n",
       "      <th>ZDEN</th>\n",
       "      <th>DTC</th>\n",
       "      <th>DTS</th>\n",
       "    </tr>\n",
       "  </thead>\n",
       "  <tbody>\n",
       "    <tr>\n",
       "      <th>count</th>\n",
       "      <td>30143.000000</td>\n",
       "      <td>30143.000000</td>\n",
       "      <td>30143.000000</td>\n",
       "      <td>30143.000000</td>\n",
       "      <td>30143.000000</td>\n",
       "      <td>30143.000000</td>\n",
       "      <td>30143.000000</td>\n",
       "      <td>30143.000000</td>\n",
       "      <td>30143.000000</td>\n",
       "    </tr>\n",
       "    <tr>\n",
       "      <th>mean</th>\n",
       "      <td>-8.394576</td>\n",
       "      <td>-23.692615</td>\n",
       "      <td>38.959845</td>\n",
       "      <td>3.977690</td>\n",
       "      <td>1.547299</td>\n",
       "      <td>-17.446739</td>\n",
       "      <td>-20.229982</td>\n",
       "      <td>-54.891703</td>\n",
       "      <td>-9.737567</td>\n",
       "    </tr>\n",
       "    <tr>\n",
       "      <th>std</th>\n",
       "      <td>129.970219</td>\n",
       "      <td>157.142679</td>\n",
       "      <td>108.504554</td>\n",
       "      <td>365.112753</td>\n",
       "      <td>456.908969</td>\n",
       "      <td>149.083136</td>\n",
       "      <td>148.809506</td>\n",
       "      <td>372.858812</td>\n",
       "      <td>440.314119</td>\n",
       "    </tr>\n",
       "    <tr>\n",
       "      <th>min</th>\n",
       "      <td>-999.000000</td>\n",
       "      <td>-999.000000</td>\n",
       "      <td>-999.000000</td>\n",
       "      <td>-999.000000</td>\n",
       "      <td>-999.000000</td>\n",
       "      <td>-999.000000</td>\n",
       "      <td>-999.000000</td>\n",
       "      <td>-999.000000</td>\n",
       "      <td>-999.000000</td>\n",
       "    </tr>\n",
       "    <tr>\n",
       "      <th>25%</th>\n",
       "      <td>8.058350</td>\n",
       "      <td>0.122800</td>\n",
       "      <td>17.248750</td>\n",
       "      <td>0.717700</td>\n",
       "      <td>0.712050</td>\n",
       "      <td>0.053100</td>\n",
       "      <td>2.226700</td>\n",
       "      <td>66.304350</td>\n",
       "      <td>118.534350</td>\n",
       "    </tr>\n",
       "    <tr>\n",
       "      <th>50%</th>\n",
       "      <td>8.625000</td>\n",
       "      <td>0.193600</td>\n",
       "      <td>36.821800</td>\n",
       "      <td>1.623000</td>\n",
       "      <td>1.628100</td>\n",
       "      <td>4.941500</td>\n",
       "      <td>2.432200</td>\n",
       "      <td>78.355100</td>\n",
       "      <td>137.689300</td>\n",
       "    </tr>\n",
       "    <tr>\n",
       "      <th>75%</th>\n",
       "      <td>9.048850</td>\n",
       "      <td>0.337150</td>\n",
       "      <td>58.346150</td>\n",
       "      <td>3.158300</td>\n",
       "      <td>3.280600</td>\n",
       "      <td>7.856650</td>\n",
       "      <td>2.551350</td>\n",
       "      <td>107.022500</td>\n",
       "      <td>182.973150</td>\n",
       "    </tr>\n",
       "    <tr>\n",
       "      <th>max</th>\n",
       "      <td>21.064200</td>\n",
       "      <td>3490.158200</td>\n",
       "      <td>1470.253400</td>\n",
       "      <td>10000.000000</td>\n",
       "      <td>60467.761700</td>\n",
       "      <td>28.106400</td>\n",
       "      <td>3.259700</td>\n",
       "      <td>155.980300</td>\n",
       "      <td>487.438400</td>\n",
       "    </tr>\n",
       "  </tbody>\n",
       "</table>\n",
       "</div>"
      ],
      "text/plain": [
       "                CAL           CNC            GR           HRD           HRM  \\\n",
       "count  30143.000000  30143.000000  30143.000000  30143.000000  30143.000000   \n",
       "mean      -8.394576    -23.692615     38.959845      3.977690      1.547299   \n",
       "std      129.970219    157.142679    108.504554    365.112753    456.908969   \n",
       "min     -999.000000   -999.000000   -999.000000   -999.000000   -999.000000   \n",
       "25%        8.058350      0.122800     17.248750      0.717700      0.712050   \n",
       "50%        8.625000      0.193600     36.821800      1.623000      1.628100   \n",
       "75%        9.048850      0.337150     58.346150      3.158300      3.280600   \n",
       "max       21.064200   3490.158200   1470.253400  10000.000000  60467.761700   \n",
       "\n",
       "                 PE          ZDEN           DTC           DTS  \n",
       "count  30143.000000  30143.000000  30143.000000  30143.000000  \n",
       "mean     -17.446739    -20.229982    -54.891703     -9.737567  \n",
       "std      149.083136    148.809506    372.858812    440.314119  \n",
       "min     -999.000000   -999.000000   -999.000000   -999.000000  \n",
       "25%        0.053100      2.226700     66.304350    118.534350  \n",
       "50%        4.941500      2.432200     78.355100    137.689300  \n",
       "75%        7.856650      2.551350    107.022500    182.973150  \n",
       "max       28.106400      3.259700    155.980300    487.438400  "
      ]
     },
     "execution_count": 7,
     "metadata": {},
     "output_type": "execute_result"
    }
   ],
   "source": [
    "df.describe()"
   ]
  },
  {
   "cell_type": "code",
   "execution_count": 8,
   "metadata": {
    "colab": {
     "base_uri": "https://localhost:8080/",
     "height": 297
    },
    "colab_type": "code",
    "executionInfo": {
     "elapsed": 21426,
     "status": "ok",
     "timestamp": 1588907660880,
     "user": {
      "displayName": "Choukha Ram",
      "photoUrl": "https://lh3.googleusercontent.com/-_bbIycK5-l8/AAAAAAAAAAI/AAAAAAAAEgg/_N8TINmopSY/s64/photo.jpg",
      "userId": "04245716189834799242"
     },
     "user_tz": -120
    },
    "id": "xWKQwww8Zi7n",
    "outputId": "ea615ae9-a8b8-4a5d-b30f-b8319246fc57"
   },
   "outputs": [
    {
     "data": {
      "text/html": [
       "<div>\n",
       "<style scoped>\n",
       "    .dataframe tbody tr th:only-of-type {\n",
       "        vertical-align: middle;\n",
       "    }\n",
       "\n",
       "    .dataframe tbody tr th {\n",
       "        vertical-align: top;\n",
       "    }\n",
       "\n",
       "    .dataframe thead th {\n",
       "        text-align: right;\n",
       "    }\n",
       "</style>\n",
       "<table border=\"1\" class=\"dataframe\">\n",
       "  <thead>\n",
       "    <tr style=\"text-align: right;\">\n",
       "      <th></th>\n",
       "      <th>CAL</th>\n",
       "      <th>CNC</th>\n",
       "      <th>GR</th>\n",
       "      <th>HRD</th>\n",
       "      <th>HRM</th>\n",
       "      <th>PE</th>\n",
       "      <th>ZDEN</th>\n",
       "    </tr>\n",
       "  </thead>\n",
       "  <tbody>\n",
       "    <tr>\n",
       "      <th>count</th>\n",
       "      <td>11088.000000</td>\n",
       "      <td>11088.000000</td>\n",
       "      <td>11088.000000</td>\n",
       "      <td>11088.000000</td>\n",
       "      <td>11088.000000</td>\n",
       "      <td>11088.000000</td>\n",
       "      <td>11088.000000</td>\n",
       "    </tr>\n",
       "    <tr>\n",
       "      <th>mean</th>\n",
       "      <td>8.634049</td>\n",
       "      <td>0.158501</td>\n",
       "      <td>28.966414</td>\n",
       "      <td>4.028372</td>\n",
       "      <td>106.752210</td>\n",
       "      <td>7.353522</td>\n",
       "      <td>2.475884</td>\n",
       "    </tr>\n",
       "    <tr>\n",
       "      <th>std</th>\n",
       "      <td>0.044064</td>\n",
       "      <td>0.091298</td>\n",
       "      <td>43.648163</td>\n",
       "      <td>7.198112</td>\n",
       "      <td>2374.620246</td>\n",
       "      <td>1.239075</td>\n",
       "      <td>0.149440</td>\n",
       "    </tr>\n",
       "    <tr>\n",
       "      <th>min</th>\n",
       "      <td>8.500000</td>\n",
       "      <td>0.009800</td>\n",
       "      <td>0.852000</td>\n",
       "      <td>0.083900</td>\n",
       "      <td>0.102700</td>\n",
       "      <td>4.760800</td>\n",
       "      <td>2.033400</td>\n",
       "    </tr>\n",
       "    <tr>\n",
       "      <th>25%</th>\n",
       "      <td>8.625000</td>\n",
       "      <td>0.091700</td>\n",
       "      <td>8.449450</td>\n",
       "      <td>1.760775</td>\n",
       "      <td>1.865575</td>\n",
       "      <td>6.528075</td>\n",
       "      <td>2.378175</td>\n",
       "    </tr>\n",
       "    <tr>\n",
       "      <th>50%</th>\n",
       "      <td>8.625000</td>\n",
       "      <td>0.128300</td>\n",
       "      <td>18.168650</td>\n",
       "      <td>2.758900</td>\n",
       "      <td>3.176950</td>\n",
       "      <td>7.881700</td>\n",
       "      <td>2.533600</td>\n",
       "    </tr>\n",
       "    <tr>\n",
       "      <th>75%</th>\n",
       "      <td>8.671900</td>\n",
       "      <td>0.213500</td>\n",
       "      <td>36.470725</td>\n",
       "      <td>4.539675</td>\n",
       "      <td>5.034600</td>\n",
       "      <td>8.308325</td>\n",
       "      <td>2.581800</td>\n",
       "    </tr>\n",
       "    <tr>\n",
       "      <th>max</th>\n",
       "      <td>8.875000</td>\n",
       "      <td>0.559400</td>\n",
       "      <td>1124.442000</td>\n",
       "      <td>202.233000</td>\n",
       "      <td>62290.769500</td>\n",
       "      <td>13.840700</td>\n",
       "      <td>3.024800</td>\n",
       "    </tr>\n",
       "  </tbody>\n",
       "</table>\n",
       "</div>"
      ],
      "text/plain": [
       "                CAL           CNC            GR           HRD           HRM  \\\n",
       "count  11088.000000  11088.000000  11088.000000  11088.000000  11088.000000   \n",
       "mean       8.634049      0.158501     28.966414      4.028372    106.752210   \n",
       "std        0.044064      0.091298     43.648163      7.198112   2374.620246   \n",
       "min        8.500000      0.009800      0.852000      0.083900      0.102700   \n",
       "25%        8.625000      0.091700      8.449450      1.760775      1.865575   \n",
       "50%        8.625000      0.128300     18.168650      2.758900      3.176950   \n",
       "75%        8.671900      0.213500     36.470725      4.539675      5.034600   \n",
       "max        8.875000      0.559400   1124.442000    202.233000  62290.769500   \n",
       "\n",
       "                 PE          ZDEN  \n",
       "count  11088.000000  11088.000000  \n",
       "mean       7.353522      2.475884  \n",
       "std        1.239075      0.149440  \n",
       "min        4.760800      2.033400  \n",
       "25%        6.528075      2.378175  \n",
       "50%        7.881700      2.533600  \n",
       "75%        8.308325      2.581800  \n",
       "max       13.840700      3.024800  "
      ]
     },
     "execution_count": 8,
     "metadata": {},
     "output_type": "execute_result"
    }
   ],
   "source": [
    "test.describe()"
   ]
  },
  {
   "cell_type": "markdown",
   "metadata": {
    "colab_type": "text",
    "id": "rVT4ZhKg2dwa"
   },
   "source": [
    "Test Data seems quite different from the Train Data. We also checked for the covariate shift between these two datasets and found that both the datasets are different due to different distributions of CAL, PE and others. Information from covariate shift can be utilized to select the features or giving weights to training instances."
   ]
  },
  {
   "cell_type": "code",
   "execution_count": 9,
   "metadata": {
    "colab": {},
    "colab_type": "code",
    "id": "_D-PqQo_WQvg"
   },
   "outputs": [],
   "source": [
    "# For convenience, let's copy the Raw Training data into another dataframe to further work and modify\n",
    "df1 = df.copy()"
   ]
  },
  {
   "cell_type": "code",
   "execution_count": 10,
   "metadata": {
    "colab": {},
    "colab_type": "code",
    "id": "eFry5O36WF-h"
   },
   "outputs": [],
   "source": [
    "# Replace value -999 ( missing value indicators ) as NA\n",
    "df1.replace(['-999', -999], np.nan, inplace=True)"
   ]
  },
  {
   "cell_type": "code",
   "execution_count": 0,
   "metadata": {
    "colab": {
     "base_uri": "https://localhost:8080/",
     "height": 607
    },
    "colab_type": "code",
    "executionInfo": {
     "elapsed": 24280,
     "status": "ok",
     "timestamp": 1588907663818,
     "user": {
      "displayName": "Choukha Ram",
      "photoUrl": "https://lh3.googleusercontent.com/-_bbIycK5-l8/AAAAAAAAAAI/AAAAAAAAEgg/_N8TINmopSY/s64/photo.jpg",
      "userId": "04245716189834799242"
     },
     "user_tz": -120
    },
    "id": "cQp7P3sZby1X",
    "outputId": "1b920857-de77-44cb-8427-db1adedf5f32"
   },
   "outputs": [
    {
     "data": {
      "image/png": "[encoded data removed]",
      "text/plain": [
       "<Figure size 1080x720 with 9 Axes>"
      ]
     },
     "metadata": {
      "needs_background": "light",
      "tags": []
     },
     "output_type": "display_data"
    }
   ],
   "source": [
    "histdf = df1.hist(bins=100,figsize=(15,10))"
   ]
  },
  {
   "cell_type": "code",
   "execution_count": 0,
   "metadata": {
    "colab": {
     "base_uri": "https://localhost:8080/",
     "height": 722
    },
    "colab_type": "code",
    "executionInfo": {
     "elapsed": 27167,
     "status": "ok",
     "timestamp": 1588907666744,
     "user": {
      "displayName": "Choukha Ram",
      "photoUrl": "https://lh3.googleusercontent.com/-_bbIycK5-l8/AAAAAAAAAAI/AAAAAAAAEgg/_N8TINmopSY/s64/photo.jpg",
      "userId": "04245716189834799242"
     },
     "user_tz": -120
    },
    "id": "R8Ig4C1oc3r4",
    "outputId": "b97fec33-8ab8-42fd-94ba-bc1f4744a24b"
   },
   "outputs": [
    {
     "data": {
      "text/plain": [
       "array([<matplotlib.axes._subplots.AxesSubplot object at 0x7f37fa2d90b8>,\n",
       "       <matplotlib.axes._subplots.AxesSubplot object at 0x7f37fa2e4f98>,\n",
       "       <matplotlib.axes._subplots.AxesSubplot object at 0x7f37f9e0ffd0>,\n",
       "       <matplotlib.axes._subplots.AxesSubplot object at 0x7f37f9de8240>,\n",
       "       <matplotlib.axes._subplots.AxesSubplot object at 0x7f37f9dff470>,\n",
       "       <matplotlib.axes._subplots.AxesSubplot object at 0x7f37f9da66a0>,\n",
       "       <matplotlib.axes._subplots.AxesSubplot object at 0x7f37f9d598d0>,\n",
       "       <matplotlib.axes._subplots.AxesSubplot object at 0x7f37f9d0dac8>,\n",
       "       <matplotlib.axes._subplots.AxesSubplot object at 0x7f37f9d0db38>],\n",
       "      dtype=object)"
      ]
     },
     "execution_count": 15,
     "metadata": {
      "tags": []
     },
     "output_type": "execute_result"
    },
    {
     "data": {
      "image/png": "[encoded data removed]",
      "text/plain": [
       "<Figure size 1440x720 with 9 Axes>"
      ]
     },
     "metadata": {
      "needs_background": "light",
      "tags": []
     },
     "output_type": "display_data"
    }
   ],
   "source": [
    "df1.plot(subplots=True,figsize=(20,10))"
   ]
  },
  {
   "cell_type": "markdown",
   "metadata": {
    "colab_type": "text",
    "id": "dGsxP2OffnV9"
   },
   "source": [
    "###  Nullify the Negative Values</a>"
   ]
  },
  {
   "cell_type": "code",
   "execution_count": 11,
   "metadata": {
    "colab": {},
    "colab_type": "code",
    "id": "cDFUbybYeksc"
   },
   "outputs": [],
   "source": [
    "df1['ZDEN'][df1['ZDEN']<0] = np.nan\n",
    "df1['GR'][df1['GR']<0] = np.nan\n",
    "df1['CNC'][df1['CNC']<0] = np.nan\n",
    "df1['PE'][df1['PE']<0] = np.nan"
   ]
  },
  {
   "cell_type": "markdown",
   "metadata": {
    "colab_type": "text",
    "id": "4yUeKPh1f9WS"
   },
   "source": [
    "###  Nullify the Extreme Values or Outliers</a>\n",
    "Outlier limits and ranges are identified based on the stats from Train and Test data. Instead of dropping the rows with such values, we replace them with NaNs"
   ]
  },
  {
   "cell_type": "code",
   "execution_count": 12,
   "metadata": {
    "colab": {},
    "colab_type": "code",
    "id": "DqyBphy8AFYB"
   },
   "outputs": [],
   "source": [
    "# GR\n",
    "df1['GR'][(df1['GR']>250)] = np.nan\n",
    "# CNC\n",
    "df1['CNC'][df1['CNC']>0.7] = np.nan\n",
    "# HRM & HRD\n",
    "df1['HRD'][df1['HRD']>200] = np.nan\n",
    "df1['HRM'][df1['HRM']>200] = np.nan"
   ]
  },
  {
   "cell_type": "markdown",
   "metadata": {
    "colab_type": "text",
    "id": "e2D9Z6PWgx2O"
   },
   "source": [
    "###  Log Transformation on skewed variables </a>\n",
    "HRD and HRM variables are quite skewed, hence we need to transform them."
   ]
  },
  {
   "cell_type": "code",
   "execution_count": 13,
   "metadata": {
    "colab": {},
    "colab_type": "code",
    "id": "HFed4ElIao3a"
   },
   "outputs": [],
   "source": [
    "df1['HRM'] = df1['HRM'].apply(lambda x:np.log(x))\n",
    "df1['HRD'] = df1['HRD'].apply(lambda x:np.log(x))"
   ]
  },
  {
   "cell_type": "code",
   "execution_count": 14,
   "metadata": {
    "colab": {
     "base_uri": "https://localhost:8080/",
     "height": 297
    },
    "colab_type": "code",
    "executionInfo": {
     "elapsed": 27057,
     "status": "ok",
     "timestamp": 1588907666750,
     "user": {
      "displayName": "Choukha Ram",
      "photoUrl": "https://lh3.googleusercontent.com/-_bbIycK5-l8/AAAAAAAAAAI/AAAAAAAAEgg/_N8TINmopSY/s64/photo.jpg",
      "userId": "04245716189834799242"
     },
     "user_tz": -120
    },
    "id": "mTaOrUUbk3Zw",
    "outputId": "9512b1d9-579d-415f-ba23-36a9590940a4"
   },
   "outputs": [
    {
     "data": {
      "text/html": [
       "<div>\n",
       "<style scoped>\n",
       "    .dataframe tbody tr th:only-of-type {\n",
       "        vertical-align: middle;\n",
       "    }\n",
       "\n",
       "    .dataframe tbody tr th {\n",
       "        vertical-align: top;\n",
       "    }\n",
       "\n",
       "    .dataframe thead th {\n",
       "        text-align: right;\n",
       "    }\n",
       "</style>\n",
       "<table border=\"1\" class=\"dataframe\">\n",
       "  <thead>\n",
       "    <tr style=\"text-align: right;\">\n",
       "      <th></th>\n",
       "      <th>CAL</th>\n",
       "      <th>CNC</th>\n",
       "      <th>GR</th>\n",
       "      <th>HRD</th>\n",
       "      <th>HRM</th>\n",
       "      <th>PE</th>\n",
       "      <th>ZDEN</th>\n",
       "      <th>DTC</th>\n",
       "      <th>DTS</th>\n",
       "    </tr>\n",
       "  </thead>\n",
       "  <tbody>\n",
       "    <tr>\n",
       "      <th>count</th>\n",
       "      <td>29633.000000</td>\n",
       "      <td>29195.000000</td>\n",
       "      <td>29513.000000</td>\n",
       "      <td>29683.000000</td>\n",
       "      <td>29687.000000</td>\n",
       "      <td>29455.000000</td>\n",
       "      <td>29454.000000</td>\n",
       "      <td>26089.000000</td>\n",
       "      <td>25278.000000</td>\n",
       "    </tr>\n",
       "    <tr>\n",
       "      <th>mean</th>\n",
       "      <td>8.654281</td>\n",
       "      <td>0.245114</td>\n",
       "      <td>44.140058</td>\n",
       "      <td>0.475938</td>\n",
       "      <td>0.490181</td>\n",
       "      <td>5.174812</td>\n",
       "      <td>2.394661</td>\n",
       "      <td>91.814381</td>\n",
       "      <td>180.655730</td>\n",
       "    </tr>\n",
       "    <tr>\n",
       "      <th>std</th>\n",
       "      <td>1.749145</td>\n",
       "      <td>0.152072</td>\n",
       "      <td>36.486081</td>\n",
       "      <td>0.977667</td>\n",
       "      <td>0.988046</td>\n",
       "      <td>4.780959</td>\n",
       "      <td>0.189292</td>\n",
       "      <td>24.337910</td>\n",
       "      <td>81.141960</td>\n",
       "    </tr>\n",
       "    <tr>\n",
       "      <th>min</th>\n",
       "      <td>5.930400</td>\n",
       "      <td>0.004100</td>\n",
       "      <td>0.000000</td>\n",
       "      <td>-2.916921</td>\n",
       "      <td>-2.787093</td>\n",
       "      <td>0.000000</td>\n",
       "      <td>0.003500</td>\n",
       "      <td>49.970500</td>\n",
       "      <td>80.580400</td>\n",
       "    </tr>\n",
       "    <tr>\n",
       "      <th>25%</th>\n",
       "      <td>8.135600</td>\n",
       "      <td>0.126600</td>\n",
       "      <td>17.682600</td>\n",
       "      <td>-0.303066</td>\n",
       "      <td>-0.309723</td>\n",
       "      <td>0.054200</td>\n",
       "      <td>2.234900</td>\n",
       "      <td>71.357000</td>\n",
       "      <td>129.446625</td>\n",
       "    </tr>\n",
       "    <tr>\n",
       "      <th>50%</th>\n",
       "      <td>8.625000</td>\n",
       "      <td>0.197300</td>\n",
       "      <td>36.719400</td>\n",
       "      <td>0.503861</td>\n",
       "      <td>0.505914</td>\n",
       "      <td>5.043800</td>\n",
       "      <td>2.439700</td>\n",
       "      <td>85.237600</td>\n",
       "      <td>144.593050</td>\n",
       "    </tr>\n",
       "    <tr>\n",
       "      <th>75%</th>\n",
       "      <td>9.063000</td>\n",
       "      <td>0.337900</td>\n",
       "      <td>57.633200</td>\n",
       "      <td>1.153542</td>\n",
       "      <td>1.191723</td>\n",
       "      <td>7.950150</td>\n",
       "      <td>2.553100</td>\n",
       "      <td>112.112600</td>\n",
       "      <td>191.475125</td>\n",
       "    </tr>\n",
       "    <tr>\n",
       "      <th>max</th>\n",
       "      <td>21.064200</td>\n",
       "      <td>0.699600</td>\n",
       "      <td>249.904800</td>\n",
       "      <td>5.292286</td>\n",
       "      <td>5.287507</td>\n",
       "      <td>28.106400</td>\n",
       "      <td>3.259700</td>\n",
       "      <td>155.980300</td>\n",
       "      <td>487.438400</td>\n",
       "    </tr>\n",
       "  </tbody>\n",
       "</table>\n",
       "</div>"
      ],
      "text/plain": [
       "                CAL           CNC            GR           HRD           HRM  \\\n",
       "count  29633.000000  29195.000000  29513.000000  29683.000000  29687.000000   \n",
       "mean       8.654281      0.245114     44.140058      0.475938      0.490181   \n",
       "std        1.749145      0.152072     36.486081      0.977667      0.988046   \n",
       "min        5.930400      0.004100      0.000000     -2.916921     -2.787093   \n",
       "25%        8.135600      0.126600     17.682600     -0.303066     -0.309723   \n",
       "50%        8.625000      0.197300     36.719400      0.503861      0.505914   \n",
       "75%        9.063000      0.337900     57.633200      1.153542      1.191723   \n",
       "max       21.064200      0.699600    249.904800      5.292286      5.287507   \n",
       "\n",
       "                 PE          ZDEN           DTC           DTS  \n",
       "count  29455.000000  29454.000000  26089.000000  25278.000000  \n",
       "mean       5.174812      2.394661     91.814381    180.655730  \n",
       "std        4.780959      0.189292     24.337910     81.141960  \n",
       "min        0.000000      0.003500     49.970500     80.580400  \n",
       "25%        0.054200      2.234900     71.357000    129.446625  \n",
       "50%        5.043800      2.439700     85.237600    144.593050  \n",
       "75%        7.950150      2.553100    112.112600    191.475125  \n",
       "max       28.106400      3.259700    155.980300    487.438400  "
      ]
     },
     "execution_count": 14,
     "metadata": {},
     "output_type": "execute_result"
    }
   ],
   "source": [
    "df1.describe()"
   ]
  },
  {
   "cell_type": "markdown",
   "metadata": {
    "colab_type": "text",
    "id": "b382JhSDi5RY"
   },
   "source": [
    "###  Correlations</a>"
   ]
  },
  {
   "cell_type": "code",
   "execution_count": 15,
   "metadata": {
    "colab": {
     "base_uri": "https://localhost:8080/",
     "height": 328
    },
    "colab_type": "code",
    "executionInfo": {
     "elapsed": 27031,
     "status": "ok",
     "timestamp": 1588907666752,
     "user": {
      "displayName": "Choukha Ram",
      "photoUrl": "https://lh3.googleusercontent.com/-_bbIycK5-l8/AAAAAAAAAAI/AAAAAAAAEgg/_N8TINmopSY/s64/photo.jpg",
      "userId": "04245716189834799242"
     },
     "user_tz": -120
    },
    "id": "36LqXoK_UES0",
    "outputId": "bc22aa95-76a7-497e-f8f7-1e3a1aee3826"
   },
   "outputs": [
    {
     "data": {
      "text/html": [
       "<div>\n",
       "<style scoped>\n",
       "    .dataframe tbody tr th:only-of-type {\n",
       "        vertical-align: middle;\n",
       "    }\n",
       "\n",
       "    .dataframe tbody tr th {\n",
       "        vertical-align: top;\n",
       "    }\n",
       "\n",
       "    .dataframe thead th {\n",
       "        text-align: right;\n",
       "    }\n",
       "</style>\n",
       "<table border=\"1\" class=\"dataframe\">\n",
       "  <thead>\n",
       "    <tr style=\"text-align: right;\">\n",
       "      <th></th>\n",
       "      <th>CAL</th>\n",
       "      <th>CNC</th>\n",
       "      <th>GR</th>\n",
       "      <th>HRD</th>\n",
       "      <th>HRM</th>\n",
       "      <th>PE</th>\n",
       "      <th>ZDEN</th>\n",
       "      <th>DTC</th>\n",
       "      <th>DTS</th>\n",
       "    </tr>\n",
       "  </thead>\n",
       "  <tbody>\n",
       "    <tr>\n",
       "      <th>CAL</th>\n",
       "      <td>1.000000</td>\n",
       "      <td>0.582005</td>\n",
       "      <td>0.040421</td>\n",
       "      <td>-0.199495</td>\n",
       "      <td>-0.164176</td>\n",
       "      <td>0.163877</td>\n",
       "      <td>-0.368183</td>\n",
       "      <td>0.585637</td>\n",
       "      <td>0.681271</td>\n",
       "    </tr>\n",
       "    <tr>\n",
       "      <th>CNC</th>\n",
       "      <td>0.582005</td>\n",
       "      <td>1.000000</td>\n",
       "      <td>0.486927</td>\n",
       "      <td>-0.526469</td>\n",
       "      <td>-0.531618</td>\n",
       "      <td>0.437687</td>\n",
       "      <td>-0.698973</td>\n",
       "      <td>0.943968</td>\n",
       "      <td>0.898753</td>\n",
       "    </tr>\n",
       "    <tr>\n",
       "      <th>GR</th>\n",
       "      <td>0.040421</td>\n",
       "      <td>0.486927</td>\n",
       "      <td>1.000000</td>\n",
       "      <td>-0.104434</td>\n",
       "      <td>-0.111190</td>\n",
       "      <td>0.031718</td>\n",
       "      <td>-0.178068</td>\n",
       "      <td>0.427692</td>\n",
       "      <td>0.308994</td>\n",
       "    </tr>\n",
       "    <tr>\n",
       "      <th>HRD</th>\n",
       "      <td>-0.199495</td>\n",
       "      <td>-0.526469</td>\n",
       "      <td>-0.104434</td>\n",
       "      <td>1.000000</td>\n",
       "      <td>0.981400</td>\n",
       "      <td>-0.245251</td>\n",
       "      <td>0.622416</td>\n",
       "      <td>-0.608752</td>\n",
       "      <td>-0.436526</td>\n",
       "    </tr>\n",
       "    <tr>\n",
       "      <th>HRM</th>\n",
       "      <td>-0.164176</td>\n",
       "      <td>-0.531618</td>\n",
       "      <td>-0.111190</td>\n",
       "      <td>0.981400</td>\n",
       "      <td>1.000000</td>\n",
       "      <td>-0.279317</td>\n",
       "      <td>0.622436</td>\n",
       "      <td>-0.605481</td>\n",
       "      <td>-0.435709</td>\n",
       "    </tr>\n",
       "    <tr>\n",
       "      <th>PE</th>\n",
       "      <td>0.163877</td>\n",
       "      <td>0.437687</td>\n",
       "      <td>0.031718</td>\n",
       "      <td>-0.245251</td>\n",
       "      <td>-0.279317</td>\n",
       "      <td>1.000000</td>\n",
       "      <td>-0.340607</td>\n",
       "      <td>0.477524</td>\n",
       "      <td>0.440266</td>\n",
       "    </tr>\n",
       "    <tr>\n",
       "      <th>ZDEN</th>\n",
       "      <td>-0.368183</td>\n",
       "      <td>-0.698973</td>\n",
       "      <td>-0.178068</td>\n",
       "      <td>0.622416</td>\n",
       "      <td>0.622436</td>\n",
       "      <td>-0.340607</td>\n",
       "      <td>1.000000</td>\n",
       "      <td>-0.756792</td>\n",
       "      <td>-0.670186</td>\n",
       "    </tr>\n",
       "    <tr>\n",
       "      <th>DTC</th>\n",
       "      <td>0.585637</td>\n",
       "      <td>0.943968</td>\n",
       "      <td>0.427692</td>\n",
       "      <td>-0.608752</td>\n",
       "      <td>-0.605481</td>\n",
       "      <td>0.477524</td>\n",
       "      <td>-0.756792</td>\n",
       "      <td>1.000000</td>\n",
       "      <td>0.941639</td>\n",
       "    </tr>\n",
       "    <tr>\n",
       "      <th>DTS</th>\n",
       "      <td>0.681271</td>\n",
       "      <td>0.898753</td>\n",
       "      <td>0.308994</td>\n",
       "      <td>-0.436526</td>\n",
       "      <td>-0.435709</td>\n",
       "      <td>0.440266</td>\n",
       "      <td>-0.670186</td>\n",
       "      <td>0.941639</td>\n",
       "      <td>1.000000</td>\n",
       "    </tr>\n",
       "  </tbody>\n",
       "</table>\n",
       "</div>"
      ],
      "text/plain": [
       "           CAL       CNC        GR       HRD       HRM        PE      ZDEN  \\\n",
       "CAL   1.000000  0.582005  0.040421 -0.199495 -0.164176  0.163877 -0.368183   \n",
       "CNC   0.582005  1.000000  0.486927 -0.526469 -0.531618  0.437687 -0.698973   \n",
       "GR    0.040421  0.486927  1.000000 -0.104434 -0.111190  0.031718 -0.178068   \n",
       "HRD  -0.199495 -0.526469 -0.104434  1.000000  0.981400 -0.245251  0.622416   \n",
       "HRM  -0.164176 -0.531618 -0.111190  0.981400  1.000000 -0.279317  0.622436   \n",
       "PE    0.163877  0.437687  0.031718 -0.245251 -0.279317  1.000000 -0.340607   \n",
       "ZDEN -0.368183 -0.698973 -0.178068  0.622416  0.622436 -0.340607  1.000000   \n",
       "DTC   0.585637  0.943968  0.427692 -0.608752 -0.605481  0.477524 -0.756792   \n",
       "DTS   0.681271  0.898753  0.308994 -0.436526 -0.435709  0.440266 -0.670186   \n",
       "\n",
       "           DTC       DTS  \n",
       "CAL   0.585637  0.681271  \n",
       "CNC   0.943968  0.898753  \n",
       "GR    0.427692  0.308994  \n",
       "HRD  -0.608752 -0.436526  \n",
       "HRM  -0.605481 -0.435709  \n",
       "PE    0.477524  0.440266  \n",
       "ZDEN -0.756792 -0.670186  \n",
       "DTC   1.000000  0.941639  \n",
       "DTS   0.941639  1.000000  "
      ]
     },
     "execution_count": 15,
     "metadata": {},
     "output_type": "execute_result"
    }
   ],
   "source": [
    "df1.corr()"
   ]
  },
  {
   "cell_type": "code",
   "execution_count": 16,
   "metadata": {
    "colab": {
     "base_uri": "https://localhost:8080/",
     "height": 266
    },
    "colab_type": "code",
    "executionInfo": {
     "elapsed": 26993,
     "status": "ok",
     "timestamp": 1588907666753,
     "user": {
      "displayName": "Choukha Ram",
      "photoUrl": "https://lh3.googleusercontent.com/-_bbIycK5-l8/AAAAAAAAAAI/AAAAAAAAEgg/_N8TINmopSY/s64/photo.jpg",
      "userId": "04245716189834799242"
     },
     "user_tz": -120
    },
    "id": "Jvkg4wKJfTyn",
    "outputId": "f2f12a87-3996-431f-da63-c01169f04ece"
   },
   "outputs": [
    {
     "data": {
      "text/html": [
       "<div>\n",
       "<style scoped>\n",
       "    .dataframe tbody tr th:only-of-type {\n",
       "        vertical-align: middle;\n",
       "    }\n",
       "\n",
       "    .dataframe tbody tr th {\n",
       "        vertical-align: top;\n",
       "    }\n",
       "\n",
       "    .dataframe thead th {\n",
       "        text-align: right;\n",
       "    }\n",
       "</style>\n",
       "<table border=\"1\" class=\"dataframe\">\n",
       "  <thead>\n",
       "    <tr style=\"text-align: right;\">\n",
       "      <th></th>\n",
       "      <th>CAL</th>\n",
       "      <th>CNC</th>\n",
       "      <th>GR</th>\n",
       "      <th>HRD</th>\n",
       "      <th>HRM</th>\n",
       "      <th>PE</th>\n",
       "      <th>ZDEN</th>\n",
       "    </tr>\n",
       "  </thead>\n",
       "  <tbody>\n",
       "    <tr>\n",
       "      <th>CAL</th>\n",
       "      <td>1.000000</td>\n",
       "      <td>-0.290943</td>\n",
       "      <td>0.024399</td>\n",
       "      <td>0.037764</td>\n",
       "      <td>0.050929</td>\n",
       "      <td>0.446757</td>\n",
       "      <td>0.438947</td>\n",
       "    </tr>\n",
       "    <tr>\n",
       "      <th>CNC</th>\n",
       "      <td>-0.290943</td>\n",
       "      <td>1.000000</td>\n",
       "      <td>0.575440</td>\n",
       "      <td>-0.247362</td>\n",
       "      <td>0.016520</td>\n",
       "      <td>-0.563464</td>\n",
       "      <td>-0.710657</td>\n",
       "    </tr>\n",
       "    <tr>\n",
       "      <th>GR</th>\n",
       "      <td>0.024399</td>\n",
       "      <td>0.575440</td>\n",
       "      <td>1.000000</td>\n",
       "      <td>-0.124756</td>\n",
       "      <td>0.154772</td>\n",
       "      <td>-0.121305</td>\n",
       "      <td>-0.129897</td>\n",
       "    </tr>\n",
       "    <tr>\n",
       "      <th>HRD</th>\n",
       "      <td>0.037764</td>\n",
       "      <td>-0.247362</td>\n",
       "      <td>-0.124756</td>\n",
       "      <td>1.000000</td>\n",
       "      <td>0.415450</td>\n",
       "      <td>-0.002108</td>\n",
       "      <td>0.077118</td>\n",
       "    </tr>\n",
       "    <tr>\n",
       "      <th>HRM</th>\n",
       "      <td>0.050929</td>\n",
       "      <td>0.016520</td>\n",
       "      <td>0.154772</td>\n",
       "      <td>0.415450</td>\n",
       "      <td>1.000000</td>\n",
       "      <td>0.046397</td>\n",
       "      <td>0.028714</td>\n",
       "    </tr>\n",
       "    <tr>\n",
       "      <th>PE</th>\n",
       "      <td>0.446757</td>\n",
       "      <td>-0.563464</td>\n",
       "      <td>-0.121305</td>\n",
       "      <td>-0.002108</td>\n",
       "      <td>0.046397</td>\n",
       "      <td>1.000000</td>\n",
       "      <td>0.870180</td>\n",
       "    </tr>\n",
       "    <tr>\n",
       "      <th>ZDEN</th>\n",
       "      <td>0.438947</td>\n",
       "      <td>-0.710657</td>\n",
       "      <td>-0.129897</td>\n",
       "      <td>0.077118</td>\n",
       "      <td>0.028714</td>\n",
       "      <td>0.870180</td>\n",
       "      <td>1.000000</td>\n",
       "    </tr>\n",
       "  </tbody>\n",
       "</table>\n",
       "</div>"
      ],
      "text/plain": [
       "           CAL       CNC        GR       HRD       HRM        PE      ZDEN\n",
       "CAL   1.000000 -0.290943  0.024399  0.037764  0.050929  0.446757  0.438947\n",
       "CNC  -0.290943  1.000000  0.575440 -0.247362  0.016520 -0.563464 -0.710657\n",
       "GR    0.024399  0.575440  1.000000 -0.124756  0.154772 -0.121305 -0.129897\n",
       "HRD   0.037764 -0.247362 -0.124756  1.000000  0.415450 -0.002108  0.077118\n",
       "HRM   0.050929  0.016520  0.154772  0.415450  1.000000  0.046397  0.028714\n",
       "PE    0.446757 -0.563464 -0.121305 -0.002108  0.046397  1.000000  0.870180\n",
       "ZDEN  0.438947 -0.710657 -0.129897  0.077118  0.028714  0.870180  1.000000"
      ]
     },
     "execution_count": 16,
     "metadata": {},
     "output_type": "execute_result"
    }
   ],
   "source": [
    "test.corr()"
   ]
  },
  {
   "cell_type": "code",
   "execution_count": 17,
   "metadata": {
    "colab": {
     "base_uri": "https://localhost:8080/",
     "height": 328
    },
    "colab_type": "code",
    "executionInfo": {
     "elapsed": 26957,
     "status": "ok",
     "timestamp": 1588907666754,
     "user": {
      "displayName": "Choukha Ram",
      "photoUrl": "https://lh3.googleusercontent.com/-_bbIycK5-l8/AAAAAAAAAAI/AAAAAAAAEgg/_N8TINmopSY/s64/photo.jpg",
      "userId": "04245716189834799242"
     },
     "user_tz": -120
    },
    "id": "4U1VHkmUmChb",
    "outputId": "5e7eae8a-0ca6-4a36-a0db-72cc4ee4c049"
   },
   "outputs": [
    {
     "data": {
      "text/html": [
       "<div>\n",
       "<style scoped>\n",
       "    .dataframe tbody tr th:only-of-type {\n",
       "        vertical-align: middle;\n",
       "    }\n",
       "\n",
       "    .dataframe tbody tr th {\n",
       "        vertical-align: top;\n",
       "    }\n",
       "\n",
       "    .dataframe thead th {\n",
       "        text-align: right;\n",
       "    }\n",
       "</style>\n",
       "<table border=\"1\" class=\"dataframe\">\n",
       "  <thead>\n",
       "    <tr style=\"text-align: right;\">\n",
       "      <th></th>\n",
       "      <th>CAL</th>\n",
       "      <th>CNC</th>\n",
       "      <th>GR</th>\n",
       "      <th>HRD</th>\n",
       "      <th>HRM</th>\n",
       "      <th>PE</th>\n",
       "      <th>ZDEN</th>\n",
       "      <th>DTC</th>\n",
       "      <th>DTS</th>\n",
       "    </tr>\n",
       "  </thead>\n",
       "  <tbody>\n",
       "    <tr>\n",
       "      <th>CAL</th>\n",
       "      <td>1.000000</td>\n",
       "      <td>-0.272537</td>\n",
       "      <td>0.045407</td>\n",
       "      <td>0.034635</td>\n",
       "      <td>0.060653</td>\n",
       "      <td>0.459406</td>\n",
       "      <td>0.440301</td>\n",
       "      <td>-0.320136</td>\n",
       "      <td>-0.410835</td>\n",
       "    </tr>\n",
       "    <tr>\n",
       "      <th>CNC</th>\n",
       "      <td>-0.272537</td>\n",
       "      <td>1.000000</td>\n",
       "      <td>0.548729</td>\n",
       "      <td>-0.209147</td>\n",
       "      <td>-0.015163</td>\n",
       "      <td>-0.532309</td>\n",
       "      <td>-0.680442</td>\n",
       "      <td>0.932308</td>\n",
       "      <td>0.839232</td>\n",
       "    </tr>\n",
       "    <tr>\n",
       "      <th>GR</th>\n",
       "      <td>0.045407</td>\n",
       "      <td>0.548729</td>\n",
       "      <td>1.000000</td>\n",
       "      <td>-0.102104</td>\n",
       "      <td>0.038432</td>\n",
       "      <td>-0.026737</td>\n",
       "      <td>-0.057722</td>\n",
       "      <td>0.466689</td>\n",
       "      <td>0.348867</td>\n",
       "    </tr>\n",
       "    <tr>\n",
       "      <th>HRD</th>\n",
       "      <td>0.034635</td>\n",
       "      <td>-0.209147</td>\n",
       "      <td>-0.102104</td>\n",
       "      <td>1.000000</td>\n",
       "      <td>0.528032</td>\n",
       "      <td>-0.028078</td>\n",
       "      <td>0.047874</td>\n",
       "      <td>-0.161745</td>\n",
       "      <td>-0.209074</td>\n",
       "    </tr>\n",
       "    <tr>\n",
       "      <th>HRM</th>\n",
       "      <td>0.060653</td>\n",
       "      <td>-0.015163</td>\n",
       "      <td>0.038432</td>\n",
       "      <td>0.528032</td>\n",
       "      <td>1.000000</td>\n",
       "      <td>0.051307</td>\n",
       "      <td>0.036016</td>\n",
       "      <td>-0.010130</td>\n",
       "      <td>-0.026211</td>\n",
       "    </tr>\n",
       "    <tr>\n",
       "      <th>PE</th>\n",
       "      <td>0.459406</td>\n",
       "      <td>-0.532309</td>\n",
       "      <td>-0.026737</td>\n",
       "      <td>-0.028078</td>\n",
       "      <td>0.051307</td>\n",
       "      <td>1.000000</td>\n",
       "      <td>0.873218</td>\n",
       "      <td>-0.684861</td>\n",
       "      <td>-0.499729</td>\n",
       "    </tr>\n",
       "    <tr>\n",
       "      <th>ZDEN</th>\n",
       "      <td>0.440301</td>\n",
       "      <td>-0.680442</td>\n",
       "      <td>-0.057722</td>\n",
       "      <td>0.047874</td>\n",
       "      <td>0.036016</td>\n",
       "      <td>0.873218</td>\n",
       "      <td>1.000000</td>\n",
       "      <td>-0.786119</td>\n",
       "      <td>-0.644818</td>\n",
       "    </tr>\n",
       "    <tr>\n",
       "      <th>DTC</th>\n",
       "      <td>-0.320136</td>\n",
       "      <td>0.932308</td>\n",
       "      <td>0.466689</td>\n",
       "      <td>-0.161745</td>\n",
       "      <td>-0.010130</td>\n",
       "      <td>-0.684861</td>\n",
       "      <td>-0.786119</td>\n",
       "      <td>1.000000</td>\n",
       "      <td>0.814091</td>\n",
       "    </tr>\n",
       "    <tr>\n",
       "      <th>DTS</th>\n",
       "      <td>-0.410835</td>\n",
       "      <td>0.839232</td>\n",
       "      <td>0.348867</td>\n",
       "      <td>-0.209074</td>\n",
       "      <td>-0.026211</td>\n",
       "      <td>-0.499729</td>\n",
       "      <td>-0.644818</td>\n",
       "      <td>0.814091</td>\n",
       "      <td>1.000000</td>\n",
       "    </tr>\n",
       "  </tbody>\n",
       "</table>\n",
       "</div>"
      ],
      "text/plain": [
       "           CAL       CNC        GR       HRD       HRM        PE      ZDEN  \\\n",
       "CAL   1.000000 -0.272537  0.045407  0.034635  0.060653  0.459406  0.440301   \n",
       "CNC  -0.272537  1.000000  0.548729 -0.209147 -0.015163 -0.532309 -0.680442   \n",
       "GR    0.045407  0.548729  1.000000 -0.102104  0.038432 -0.026737 -0.057722   \n",
       "HRD   0.034635 -0.209147 -0.102104  1.000000  0.528032 -0.028078  0.047874   \n",
       "HRM   0.060653 -0.015163  0.038432  0.528032  1.000000  0.051307  0.036016   \n",
       "PE    0.459406 -0.532309 -0.026737 -0.028078  0.051307  1.000000  0.873218   \n",
       "ZDEN  0.440301 -0.680442 -0.057722  0.047874  0.036016  0.873218  1.000000   \n",
       "DTC  -0.320136  0.932308  0.466689 -0.161745 -0.010130 -0.684861 -0.786119   \n",
       "DTS  -0.410835  0.839232  0.348867 -0.209074 -0.026211 -0.499729 -0.644818   \n",
       "\n",
       "           DTC       DTS  \n",
       "CAL  -0.320136 -0.410835  \n",
       "CNC   0.932308  0.839232  \n",
       "GR    0.466689  0.348867  \n",
       "HRD  -0.161745 -0.209074  \n",
       "HRM  -0.010130 -0.026211  \n",
       "PE   -0.684861 -0.499729  \n",
       "ZDEN -0.786119 -0.644818  \n",
       "DTC   1.000000  0.814091  \n",
       "DTS   0.814091  1.000000  "
      ]
     },
     "execution_count": 17,
     "metadata": {},
     "output_type": "execute_result"
    }
   ],
   "source": [
    "dt.corr()"
   ]
  },
  {
   "cell_type": "markdown",
   "metadata": {
    "colab_type": "text",
    "id": "HhamU9irjtUK"
   },
   "source": [
    "###  Predictive Power Score (PPS)</a>\n",
    "The PPS is an asymmetric, data-type-agnostic score that can detect linear or non-linear relationships between two columns. The score ranges from 0 (no predictive power) to 1 (perfect predictive power). It can be used as an alternative to the correlation (matrix)."
   ]
  },
  {
   "cell_type": "code",
   "execution_count": 19,
   "metadata": {
    "colab": {
     "base_uri": "https://localhost:8080/",
     "height": 439
    },
    "colab_type": "code",
    "executionInfo": {
     "elapsed": 36223,
     "status": "ok",
     "timestamp": 1588907676050,
     "user": {
      "displayName": "Choukha Ram",
      "photoUrl": "https://lh3.googleusercontent.com/-_bbIycK5-l8/AAAAAAAAAAI/AAAAAAAAEgg/_N8TINmopSY/s64/photo.jpg",
      "userId": "04245716189834799242"
     },
     "user_tz": -120
    },
    "id": "uCJUIGQUUKL3",
    "outputId": "533d5c12-dfbd-441d-bf0b-ee0a37008380"
   },
   "outputs": [
    {
     "name": "stdout",
     "output_type": "stream",
     "text": [
      "Requirement already satisfied: ppscore in c:\\users\\khank\\anaconda3\\lib\\site-packages (1.2.0)\n",
      "Requirement already satisfied: scikit-learn<1.0.0,>=0.20.2 in c:\\users\\khank\\anaconda3\\lib\\site-packages (from ppscore) (0.24.1)\n",
      "Requirement already satisfied: pandas<2.0.0,>=1.0.0 in c:\\users\\khank\\anaconda3\\lib\\site-packages (from ppscore) (1.3.2)\n",
      "Requirement already satisfied: python-dateutil>=2.7.3 in c:\\users\\khank\\anaconda3\\lib\\site-packages (from pandas<2.0.0,>=1.0.0->ppscore) (2.8.1)\n",
      "Requirement already satisfied: pytz>=2017.3 in c:\\users\\khank\\anaconda3\\lib\\site-packages (from pandas<2.0.0,>=1.0.0->ppscore) (2021.1)\n",
      "Requirement already satisfied: numpy>=1.17.3 in c:\\users\\khank\\anaconda3\\lib\\site-packages (from pandas<2.0.0,>=1.0.0->ppscore) (1.20.1)\n",
      "Requirement already satisfied: six>=1.5 in c:\\users\\khank\\appdata\\roaming\\python\\python38\\site-packages (from python-dateutil>=2.7.3->pandas<2.0.0,>=1.0.0->ppscore) (1.15.0)\n",
      "Requirement already satisfied: scipy>=0.19.1 in c:\\users\\khank\\anaconda3\\lib\\site-packages (from scikit-learn<1.0.0,>=0.20.2->ppscore) (1.6.2)\n",
      "Requirement already satisfied: joblib>=0.11 in c:\\users\\khank\\anaconda3\\lib\\site-packages (from scikit-learn<1.0.0,>=0.20.2->ppscore) (1.0.1)\n",
      "Requirement already satisfied: threadpoolctl>=2.0.0 in c:\\users\\khank\\anaconda3\\lib\\site-packages (from scikit-learn<1.0.0,>=0.20.2->ppscore) (2.1.0)\n"
     ]
    },
    {
     "data": {
      "text/plain": [
       "<AxesSubplot:xlabel='x', ylabel='y'>"
      ]
     },
     "execution_count": 19,
     "metadata": {},
     "output_type": "execute_result"
    },
    {
     "data": {
      "image/png": "[encoded data removed]",
      "text/plain": [
       "<Figure size 432x288 with 2 Axes>"
      ]
     },
     "metadata": {
      "needs_background": "light"
     },
     "output_type": "display_data"
    }
   ],
   "source": [
    "! pip install ppscore\n",
    "import ppscore as pps\n",
    "matrix_df = pps.matrix(df1).pivot(columns='x', index='y',  values='ppscore')\n",
    "sns.heatmap(matrix_df, vmin=0, vmax=1, cmap=\"Blues\", linewidths=0.5, annot=True)"
   ]
  },
  {
   "cell_type": "markdown",
   "metadata": {
    "colab_type": "text",
    "id": "EQTi1Ma7nKK-"
   },
   "source": [
    "## Build Machine Learning Models</a>"
   ]
  },
  {
   "cell_type": "markdown",
   "metadata": {
    "colab_type": "text",
    "id": "WIShr6kKZIuC"
   },
   "source": [
    "### 4.1 Split the training data into Train & Test</a>\n"
   ]
  },
  {
   "cell_type": "code",
   "execution_count": 20,
   "metadata": {
    "colab": {},
    "colab_type": "code",
    "id": "kFSGbjICaAa2"
   },
   "outputs": [],
   "source": [
    "# Create separate datasets for DTC and DTS\n",
    "df_dtc = df1.dropna(subset=['DTC'])\n",
    "df_dts = df1.dropna(subset=['DTS'])"
   ]
  },
  {
   "cell_type": "markdown",
   "metadata": {
    "colab_type": "text",
    "id": "t4AsRQEHnrjZ"
   },
   "source": [
    "**X**"
   ]
  },
  {
   "cell_type": "code",
   "execution_count": 21,
   "metadata": {
    "colab": {},
    "colab_type": "code",
    "id": "GYeaqvJ4dliy"
   },
   "outputs": [],
   "source": [
    "df_dtc_x = df_dtc.drop(columns=['DTC','DTS'])\n",
    "df_dts_x = df_dts.drop(columns=['DTC','DTS'])"
   ]
  },
  {
   "cell_type": "markdown",
   "metadata": {
    "colab_type": "text",
    "id": "id-Lb5LKnwMp"
   },
   "source": [
    "**Y**"
   ]
  },
  {
   "cell_type": "code",
   "execution_count": 22,
   "metadata": {
    "colab": {},
    "colab_type": "code",
    "id": "bD1jnEMha9mG"
   },
   "outputs": [],
   "source": [
    "y_dtc = df_dtc['DTC']\n",
    "y_dts = df_dts['DTS']"
   ]
  },
  {
   "cell_type": "code",
   "execution_count": 23,
   "metadata": {
    "colab": {},
    "colab_type": "code",
    "id": "_UE-hJVFZk47"
   },
   "outputs": [],
   "source": [
    "X_train_dtc, X_test_dtc, y_train_dtc, y_test_dtc = train_test_split(df_dtc_x,y_dtc, test_size=0.30, random_state=42, shuffle = True)"
   ]
  },
  {
   "cell_type": "code",
   "execution_count": 24,
   "metadata": {
    "colab": {},
    "colab_type": "code",
    "id": "qQUtP9H-bke8"
   },
   "outputs": [],
   "source": [
    "X_train_dts, X_test_dts, y_train_dts, y_test_dts = train_test_split(df_dts_x,y_dts, test_size=0.30, random_state=42, shuffle = True)"
   ]
  },
  {
   "cell_type": "markdown",
   "metadata": {
    "colab_type": "text",
    "id": "quTp5NBUpzk5"
   },
   "source": [
    "#### 4.2.1 Model for DTC </a>"
   ]
  },
  {
   "cell_type": "code",
   "execution_count": 25,
   "metadata": {
    "colab": {},
    "colab_type": "code",
    "id": "uf3t7UXeY781"
   },
   "outputs": [],
   "source": [
    "xgb_model_dtc = xgb.XGBRegressor(random_state=42, max_depth=2,learning_rate=0.18, n_estimators=145, min_child_weight = 6, gamma = 0.3)"
   ]
  },
  {
   "cell_type": "code",
   "execution_count": 26,
   "metadata": {
    "colab": {
     "base_uri": "https://localhost:8080/",
     "height": 102
    },
    "colab_type": "code",
    "executionInfo": {
     "elapsed": 37633,
     "status": "ok",
     "timestamp": 1588907677922,
     "user": {
      "displayName": "Choukha Ram",
      "photoUrl": "https://lh3.googleusercontent.com/-_bbIycK5-l8/AAAAAAAAAAI/AAAAAAAAEgg/_N8TINmopSY/s64/photo.jpg",
      "userId": "04245716189834799242"
     },
     "user_tz": -120
    },
    "id": "OGWmJDE0Y9J0",
    "outputId": "fe0108f7-2964-4fdc-ea2a-9a483c26f837"
   },
   "outputs": [
    {
     "name": "stdout",
     "output_type": "stream",
     "text": [
      "RMSE_train:     4.482276596676145\n",
      "RMSE_test:     4.946417151942143\n",
      "R2_train:     0.9660135316729921\n",
      "R2_test:     0.9588746577098913\n"
     ]
    }
   ],
   "source": [
    "xgb_model_dtc.fit(X_train_dtc, y_train_dtc)\n",
    "y_pred_test_dtc = xgb_model_dtc.predict(X_test_dtc)\n",
    "y_pred_train_dtc = xgb_model_dtc.predict(X_train_dtc)\n",
    "print(\"RMSE_train:     \" + str(np.sqrt(mean_squared_error(y_train_dtc,y_pred_train_dtc))))\n",
    "print(\"RMSE_test:     \" + str(np.sqrt(mean_squared_error(y_test_dtc,y_pred_test_dtc))))\n",
    "print(\"R2_train:     \" + str(r2_score(y_train_dtc,y_pred_train_dtc)))\n",
    "print(\"R2_test:     \" + str(r2_score(y_test_dtc,y_pred_test_dtc)))"
   ]
  },
  {
   "cell_type": "code",
   "execution_count": 27,
   "metadata": {
    "colab": {
     "base_uri": "https://localhost:8080/",
     "height": 312
    },
    "colab_type": "code",
    "executionInfo": {
     "elapsed": 37595,
     "status": "ok",
     "timestamp": 1588907677924,
     "user": {
      "displayName": "Choukha Ram",
      "photoUrl": "https://lh3.googleusercontent.com/-_bbIycK5-l8/AAAAAAAAAAI/AAAAAAAAEgg/_N8TINmopSY/s64/photo.jpg",
      "userId": "04245716189834799242"
     },
     "user_tz": -120
    },
    "id": "T3GN9RYUzKro",
    "outputId": "1b282c4a-c45b-474d-dfad-9e67888040bf"
   },
   "outputs": [
    {
     "data": {
      "text/plain": [
       "<AxesSubplot:title={'center':'Feature importance'}, xlabel='F score', ylabel='Features'>"
      ]
     },
     "execution_count": 27,
     "metadata": {},
     "output_type": "execute_result"
    },
    {
     "data": {
      "image/png": "[encoded data removed]",
      "text/plain": [
       "<Figure size 432x288 with 1 Axes>"
      ]
     },
     "metadata": {
      "needs_background": "light"
     },
     "output_type": "display_data"
    }
   ],
   "source": [
    "xgb.plot_importance(xgb_model_dtc)"
   ]
  },
  {
   "cell_type": "markdown",
   "metadata": {
    "colab_type": "text",
    "id": "M6Zu_enJqHvT"
   },
   "source": [
    "####  Model for DTS </a>"
   ]
  },
  {
   "cell_type": "code",
   "execution_count": 28,
   "metadata": {
    "colab": {},
    "colab_type": "code",
    "id": "yc37lQHaeQjR"
   },
   "outputs": [],
   "source": [
    "xgb_model_dts = xgb.XGBRegressor(random_state=42, max_depth=7,learning_rate=0.19, n_estimators=135, min_child_weight = 6, gamma = 0.7)"
   ]
  },
  {
   "cell_type": "code",
   "execution_count": 29,
   "metadata": {
    "colab": {
     "base_uri": "https://localhost:8080/",
     "height": 102
    },
    "colab_type": "code",
    "executionInfo": {
     "elapsed": 43076,
     "status": "ok",
     "timestamp": 1588907683476,
     "user": {
      "displayName": "Choukha Ram",
      "photoUrl": "https://lh3.googleusercontent.com/-_bbIycK5-l8/AAAAAAAAAAI/AAAAAAAAEgg/_N8TINmopSY/s64/photo.jpg",
      "userId": "04245716189834799242"
     },
     "user_tz": -120
    },
    "id": "ZjhP_A_1eRkJ",
    "outputId": "c5415701-9622-4070-960a-afde4dc1f910"
   },
   "outputs": [
    {
     "name": "stdout",
     "output_type": "stream",
     "text": [
      "RMSE_train:     5.311352991488709\n",
      "RMSE_test:     9.355877762016958\n",
      "R2_train:     0.9956638631907018\n",
      "R2_test:     0.9870600144025744\n"
     ]
    }
   ],
   "source": [
    "xgb_model_dts.fit(X_train_dts, y_train_dts)\n",
    "y_pred_test_dts = xgb_model_dts.predict(X_test_dts)\n",
    "y_pred_train_dts = xgb_model_dts.predict(X_train_dts)\n",
    "print(\"RMSE_train:     \" + str(np.sqrt(mean_squared_error(y_train_dts,y_pred_train_dts))))\n",
    "print(\"RMSE_test:     \" + str(np.sqrt(mean_squared_error(y_test_dts,y_pred_test_dts))))\n",
    "print(\"R2_train:     \" + str(r2_score(y_train_dts,y_pred_train_dts)))\n",
    "print(\"R2_test:     \" + str(r2_score(y_test_dts,y_pred_test_dts)))"
   ]
  },
  {
   "cell_type": "code",
   "execution_count": 30,
   "metadata": {
    "colab": {
     "base_uri": "https://localhost:8080/",
     "height": 312
    },
    "colab_type": "code",
    "executionInfo": {
     "elapsed": 43046,
     "status": "ok",
     "timestamp": 1588907683477,
     "user": {
      "displayName": "Choukha Ram",
      "photoUrl": "https://lh3.googleusercontent.com/-_bbIycK5-l8/AAAAAAAAAAI/AAAAAAAAEgg/_N8TINmopSY/s64/photo.jpg",
      "userId": "04245716189834799242"
     },
     "user_tz": -120
    },
    "id": "3c-07Ra4zT1V",
    "outputId": "27e6d2ba-45c5-4826-f1d1-f0314dd72468"
   },
   "outputs": [
    {
     "data": {
      "text/plain": [
       "<AxesSubplot:title={'center':'Feature importance'}, xlabel='F score', ylabel='Features'>"
      ]
     },
     "execution_count": 30,
     "metadata": {},
     "output_type": "execute_result"
    },
    {
     "data": {
      "image/png": "[encoded data removed]",
      "text/plain": [
       "<Figure size 432x288 with 1 Axes>"
      ]
     },
     "metadata": {
      "needs_background": "light"
     },
     "output_type": "display_data"
    }
   ],
   "source": [
    "xgb.plot_importance(xgb_model_dts)"
   ]
  },
  {
   "cell_type": "markdown",
   "metadata": {
    "colab_type": "text",
    "id": "4klzHyuQSM5U"
   },
   "source": [
    "##  Model Predictions and Performance on Small Test Data</a>"
   ]
  },
  {
   "cell_type": "markdown",
   "metadata": {
    "colab_type": "text",
    "id": "62IZRlw4sn2B"
   },
   "source": [
    "#### Helper Function to plot the Results"
   ]
  },
  {
   "cell_type": "code",
   "execution_count": 54,
   "metadata": {
    "colab": {},
    "colab_type": "code",
    "id": "rKX0LAIPs2Gs"
   },
   "outputs": [],
   "source": [
    "def result_plot(y_predict, y_real):\n",
    "    # check the accuracy of predicted data and plot the result\n",
    "    print('Combined r2 score is:', '{:.5f}'.format(np.sqrt(r2_score(y_real, y_predict))))\n",
    "    dtc_real = y_real[:, 0]\n",
    "    dtc_pred = y_predict[:, 0]\n",
    "    dts_real = y_real[:, 1]\n",
    "    dts_pred = y_predict[:, 1]\n",
    "    print('DTC:', '{:.5f}'.format(np.sqrt(r2_score(dtc_real, dtc_pred))))\n",
    "    print('DTS:', '{:.5f}'.format(np.sqrt(r2_score(dts_real, dts_pred))))\n",
    "    plt.subplots(nrows=2, ncols=2, figsize=(16,10))\n",
    "    plt.subplot(2, 2, 1)\n",
    "    plt.plot(y_real[:, 0])\n",
    "    plt.plot(y_predict[:, 0])\n",
    "    plt.legend(['True', 'Predicted'])\n",
    "    plt.xlabel('Sample')\n",
    "    plt.ylabel('DTC')\n",
    "    plt.title('DTC Prediction Comparison')\n",
    "\n",
    "    plt.subplot(2, 2, 2)\n",
    "    plt.plot(y_real[:, 1])\n",
    "    plt.plot(y_predict[:, 1])\n",
    "    plt.legend(['True', 'Predicted'])\n",
    "    plt.xlabel('Sample')\n",
    "    plt.ylabel('DTS')\n",
    "    plt.title('DTS Prediction Comparison')\n",
    "    \n",
    "    plt.subplot(2, 2, 3)\n",
    "    plt.scatter(y_real[:, 0], y_predict[:, 0])\n",
    "    plt.xlabel('Real Value')\n",
    "    plt.ylabel('Predicted Value')\n",
    "    plt.title('DTC Prediction Comparison')\n",
    "    \n",
    "    plt.subplot(2, 2, 4)\n",
    "    plt.scatter(y_real[:, 1], y_predict[:, 1])\n",
    "    plt.xlabel('Real Value')\n",
    "    plt.ylabel('Predicted Value')\n",
    "    plt.title('DTS Prediction Comparison')\n",
    "\n",
    "    plt.show()"
   ]
  },
  {
   "cell_type": "markdown",
   "metadata": {
    "colab_type": "text",
    "id": "9iyFdLnUtH69"
   },
   "source": [
    "### Data preparation for using Model\n",
    "Apply the filters and transformation, which were applied on Training data."
   ]
  },
  {
   "cell_type": "code",
   "execution_count": 32,
   "metadata": {
    "colab": {},
    "colab_type": "code",
    "id": "e5bQQ7gzfh74"
   },
   "outputs": [],
   "source": [
    "# Replace value -999 ( missing value indicators ) as NA\n",
    "dt.replace(['-999', -999], np.nan, inplace=True)\n",
    "# Nullify the Negative Values\n",
    "dt['CNC'][dt['CNC']<0] = np.nan\n",
    "dt['GR'][dt['GR']<0] = np.nan\n",
    "dt['PE'][dt['PE']<0] = np.nan\n",
    "dt['ZDEN'][dt['ZDEN']<0] = np.nan\n",
    "# Nullify the Outliers\n",
    "dt['CNC'][dt['CNC']>0.7] = np.nan\n",
    "dt['GR'][(dt['GR']>250)] = np.nan\n",
    "dt['HRD'][dt['HRD']>200] = np.nan\n",
    "dt['HRM'][dt['HRM']>200] = np.nan\n",
    "# Log Transformation\n",
    "dt['HRD'] = np.log(dt['HRD'])\n",
    "dt['HRM'] = np.log(dt['HRM'])"
   ]
  },
  {
   "cell_type": "code",
   "execution_count": 33,
   "metadata": {
    "colab": {},
    "colab_type": "code",
    "id": "p9E6079QgQoH"
   },
   "outputs": [],
   "source": [
    "dt_x = dt.drop(columns=['DTC','DTS'])"
   ]
  },
  {
   "cell_type": "markdown",
   "metadata": {
    "colab_type": "text",
    "id": "2gc4RNq5nPdT"
   },
   "source": [
    "### Predict and Check the performance"
   ]
  },
  {
   "cell_type": "code",
   "execution_count": 34,
   "metadata": {
    "colab": {},
    "colab_type": "code",
    "id": "hYAEBMJQgmfl"
   },
   "outputs": [],
   "source": [
    "# Separate the Actual/True Values of DTC and DTS\n",
    "reals = np.array(dt.loc[:,['DTC','DTS']])"
   ]
  },
  {
   "cell_type": "code",
   "execution_count": 35,
   "metadata": {
    "colab": {},
    "colab_type": "code",
    "id": "s4bzXachiMiQ"
   },
   "outputs": [],
   "source": [
    "# Predict DTC and DTS using the trained models\n",
    "dtc_predict = xgb_model_dtc.predict(dt_x)\n",
    "dts_predict = xgb_model_dts.predict(dt_x)\n",
    "preds_df = pd.DataFrame({'DTC':dtc_predict,'DTS':dts_predict})\n",
    "preds = np.array(preds_df)"
   ]
  },
  {
   "cell_type": "code",
   "execution_count": 55,
   "metadata": {
    "colab": {
     "base_uri": "https://localhost:8080/",
     "height": 672
    },
    "colab_type": "code",
    "executionInfo": {
     "elapsed": 43701,
     "status": "ok",
     "timestamp": 1588907684733,
     "user": {
      "displayName": "Choukha Ram",
      "photoUrl": "https://lh3.googleusercontent.com/-_bbIycK5-l8/AAAAAAAAAAI/AAAAAAAAEgg/_N8TINmopSY/s64/photo.jpg",
      "userId": "04245716189834799242"
     },
     "user_tz": -120
    },
    "id": "lC3fwK-_iKzG",
    "outputId": "e4586e35-a431-49a7-ee8a-a24515168e9c"
   },
   "outputs": [
    {
     "name": "stdout",
     "output_type": "stream",
     "text": [
      "Combined r2 score is: 0.91146\n",
      "DTC: 0.96064\n",
      "DTS: 0.85946\n"
     ]
    },
    {
     "data": {
      "image/png": "[encoded data removed]",
      "text/plain": [
       "<Figure size 1152x720 with 4 Axes>"
      ]
     },
     "metadata": {
      "needs_background": "light"
     },
     "output_type": "display_data"
    }
   ],
   "source": [
    "# Plot the Results and Print the Metrics\n",
    "result_plot(preds,reals)"
   ]
  }
 ],
 "metadata": {
  "colab": {
   "collapsed_sections": [],
   "machine_shape": "hm",
   "name": "Oilers_solution.ipynb",
   "provenance": []
  },
  "kernelspec": {
   "display_name": "Python 3",
   "language": "python",
   "name": "python3"
  },
  "language_info": {
   "codemirror_mode": {
    "name": "ipython",
    "version": 3
   },
   "file_extension": ".py",
   "mimetype": "text/x-python",
   "name": "python",
   "nbconvert_exporter": "python",
   "pygments_lexer": "ipython3",
   "version": "3.8.8"
  }
 },
 "nbformat": 4,
 "nbformat_minor": 1
}
