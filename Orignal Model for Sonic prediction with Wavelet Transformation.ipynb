{
 "cells": [
  {
   "cell_type": "code",
   "execution_count": 1,
   "id": "86da781f",
   "metadata": {},
   "outputs": [],
   "source": [
    "import pandas as pd\n",
    "import numpy as np\n",
    "from scipy.interpolate import interp1d\n",
    "import pywt"
   ]
  },
  {
   "cell_type": "code",
   "execution_count": 2,
   "id": "608bd9bc",
   "metadata": {},
   "outputs": [],
   "source": [
    "import matplotlib.pyplot as plt"
   ]
  },
  {
   "cell_type": "code",
   "execution_count": 3,
   "id": "0e3054f2",
   "metadata": {},
   "outputs": [],
   "source": [
    "df1 = pd.read_csv('train.csv')\n",
    "df2= pd.read_csv('test.csv')\n",
    "dt = pd.read_csv('real_result_20perc.csv')"
   ]
  },
  {
   "cell_type": "code",
   "execution_count": 4,
   "id": "6b61dd5d",
   "metadata": {},
   "outputs": [],
   "source": [
    "df1.replace(['-999', -999], np.nan, inplace=True)"
   ]
  },
  {
   "cell_type": "code",
   "execution_count": 5,
   "id": "7a9d717e",
   "metadata": {},
   "outputs": [],
   "source": [
    "df1['ZDEN'][df1['ZDEN']<0] = np.nan\n",
    "df1['GR'][df1['GR']<0] = np.nan\n",
    "df1['CNC'][df1['CNC']<0] = np.nan\n",
    "df1['PE'][df1['PE']<0] = np.nan"
   ]
  },
  {
   "cell_type": "code",
   "execution_count": 6,
   "id": "d3588b14",
   "metadata": {},
   "outputs": [],
   "source": [
    "# GR\n",
    "df1['GR'][(df1['GR']>250)] = np.nan\n",
    "# CNC\n",
    "df1['CNC'][df1['CNC']>0.7] = np.nan\n",
    "# HRM & HRD\n",
    "df1['HRD'][df1['HRD']>200] = np.nan\n",
    "df1['HRM'][df1['HRM']>200] = np.nan"
   ]
  },
  {
   "cell_type": "code",
   "execution_count": 7,
   "id": "7beb95e1",
   "metadata": {},
   "outputs": [],
   "source": [
    "df1['HRM'] = df1['HRM'].apply(lambda x:np.log(x))\n",
    "df1['HRD'] = df1['HRD'].apply(lambda x:np.log(x))"
   ]
  },
  {
   "cell_type": "code",
   "execution_count": 8,
   "id": "19a901f9",
   "metadata": {},
   "outputs": [],
   "source": [
    "#This function is defined for descrete wavelet transform and calculating the cA ie the approximate coefficient\n",
    "def make_dwt_vars_cA(wells_df,logs,levels,wavelet):\n",
    "\n",
    "    wave= pywt.Wavelet(wavelet)\n",
    "    \n",
    "    grouped = wells_df\n",
    "    new_df = pd.DataFrame()\n",
    "    for key in grouped.keys():\n",
    "    \n",
    "        depth = grouped['Depth']\n",
    "        temp_df = pd.DataFrame()\n",
    "        temp_df['Depth'] = depth\n",
    "        for log in logs:\n",
    "      \n",
    "            temp_data = grouped[log]\n",
    "              \n",
    "            for i in levels:\n",
    "                \n",
    "                    cA_cD = pywt.wavedec(temp_data,wave,level=i,mode='symmetric')\n",
    "                    cA = cA_cD[0]\n",
    "                    new_depth = np.linspace(min(depth),max(depth),len(cA))\n",
    "                    fA = interp1d(new_depth,cA,kind='nearest')\n",
    "                    temp_df[log + '_cA_level_' + str(i)] = fA(depth)\n",
    "    \n",
    "        new_df = new_df.append(temp_df)\n",
    "        \n",
    "    new_df = new_df.sort_index()\n",
    "    new_df = new_df.drop(['Depth'],axis=1)\n",
    "    return new_df"
   ]
  },
  {
   "cell_type": "code",
   "execution_count": 9,
   "id": "05e06ad3",
   "metadata": {},
   "outputs": [],
   "source": [
    "#This is a user defined function for discrte wavelet transform cD, cD is also called the detailed  coefficient\n",
    "def make_dwt_vars_cD(wells_df,logs,levels,wavelet):\n",
    "\n",
    "    wave= pywt.Wavelet(wavelet)\n",
    "    \n",
    "    grouped = wells_df\n",
    "    new_df = pd.DataFrame()\n",
    "    for key in grouped.keys():\n",
    "    \n",
    "        depth = grouped['Depth']\n",
    "        temp_df = pd.DataFrame()\n",
    "        temp_df['Depth'] = depth\n",
    "        for log in logs:\n",
    "      \n",
    "            temp_data = grouped[log]\n",
    "\n",
    "            cA_4, cD_4, cD_3, cD_2, cD_1 = pywt.wavedec(temp_data,wave,level=4,mode='symmetric')\n",
    "            dict_cD_levels = {1:cD_1, 2:cD_2, 3:cD_3, 4:cD_4}\n",
    "                \n",
    "            for i in levels:\n",
    "                new_depth = np.linspace(min(depth),max(depth),len(dict_cD_levels[i]))\n",
    "                fA = interp1d(new_depth,dict_cD_levels[i],kind='nearest')\n",
    "                temp_df[log + '_cD_level_' + str(i)] = fA(depth)\n",
    "    \n",
    "        new_df = new_df.append(temp_df)\n",
    "        \n",
    "    new_df = new_df.sort_index()\n",
    "    new_df = new_df.drop(['Depth'],axis=1)\n",
    "    return new_df"
   ]
  },
  {
   "cell_type": "code",
   "execution_count": 10,
   "id": "cb283b22",
   "metadata": {},
   "outputs": [
    {
     "data": {
      "text/html": [
       "<div>\n",
       "<style scoped>\n",
       "    .dataframe tbody tr th:only-of-type {\n",
       "        vertical-align: middle;\n",
       "    }\n",
       "\n",
       "    .dataframe tbody tr th {\n",
       "        vertical-align: top;\n",
       "    }\n",
       "\n",
       "    .dataframe thead th {\n",
       "        text-align: right;\n",
       "    }\n",
       "</style>\n",
       "<table border=\"1\" class=\"dataframe\">\n",
       "  <thead>\n",
       "    <tr style=\"text-align: right;\">\n",
       "      <th></th>\n",
       "      <th>CAL</th>\n",
       "      <th>CNC</th>\n",
       "      <th>GR</th>\n",
       "      <th>HRD</th>\n",
       "      <th>HRM</th>\n",
       "      <th>PE</th>\n",
       "      <th>ZDEN</th>\n",
       "      <th>DTC</th>\n",
       "      <th>DTS</th>\n",
       "    </tr>\n",
       "  </thead>\n",
       "  <tbody>\n",
       "    <tr>\n",
       "      <th>0</th>\n",
       "      <td>8.6719</td>\n",
       "      <td>0.1199</td>\n",
       "      <td>6.7518</td>\n",
       "      <td>2.8285</td>\n",
       "      <td>3.0391</td>\n",
       "      <td>8.4395</td>\n",
       "      <td>2.5191</td>\n",
       "      <td>67.5481</td>\n",
       "      <td>124.2332</td>\n",
       "    </tr>\n",
       "    <tr>\n",
       "      <th>1</th>\n",
       "      <td>8.6719</td>\n",
       "      <td>0.3180</td>\n",
       "      <td>165.4345</td>\n",
       "      <td>1.3170</td>\n",
       "      <td>1.2206</td>\n",
       "      <td>7.1354</td>\n",
       "      <td>2.5517</td>\n",
       "      <td>101.5208</td>\n",
       "      <td>201.2649</td>\n",
       "    </tr>\n",
       "    <tr>\n",
       "      <th>2</th>\n",
       "      <td>8.7031</td>\n",
       "      <td>0.3164</td>\n",
       "      <td>58.3146</td>\n",
       "      <td>1.1627</td>\n",
       "      <td>1.8947</td>\n",
       "      <td>8.1722</td>\n",
       "      <td>2.4452</td>\n",
       "      <td>110.8297</td>\n",
       "      <td>250.7232</td>\n",
       "    </tr>\n",
       "    <tr>\n",
       "      <th>3</th>\n",
       "      <td>8.6250</td>\n",
       "      <td>0.1527</td>\n",
       "      <td>44.5126</td>\n",
       "      <td>2.5318</td>\n",
       "      <td>3.0052</td>\n",
       "      <td>7.6534</td>\n",
       "      <td>2.5674</td>\n",
       "      <td>80.0383</td>\n",
       "      <td>147.3262</td>\n",
       "    </tr>\n",
       "    <tr>\n",
       "      <th>4</th>\n",
       "      <td>8.6250</td>\n",
       "      <td>0.1731</td>\n",
       "      <td>16.1563</td>\n",
       "      <td>13.5082</td>\n",
       "      <td>13.0191</td>\n",
       "      <td>5.1534</td>\n",
       "      <td>2.2164</td>\n",
       "      <td>85.6109</td>\n",
       "      <td>134.4386</td>\n",
       "    </tr>\n",
       "    <tr>\n",
       "      <th>...</th>\n",
       "      <td>...</td>\n",
       "      <td>...</td>\n",
       "      <td>...</td>\n",
       "      <td>...</td>\n",
       "      <td>...</td>\n",
       "      <td>...</td>\n",
       "      <td>...</td>\n",
       "      <td>...</td>\n",
       "      <td>...</td>\n",
       "    </tr>\n",
       "    <tr>\n",
       "      <th>2212</th>\n",
       "      <td>8.6875</td>\n",
       "      <td>0.1228</td>\n",
       "      <td>9.4853</td>\n",
       "      <td>2.8712</td>\n",
       "      <td>3.0468</td>\n",
       "      <td>8.2976</td>\n",
       "      <td>2.5381</td>\n",
       "      <td>69.6183</td>\n",
       "      <td>127.9044</td>\n",
       "    </tr>\n",
       "    <tr>\n",
       "      <th>2213</th>\n",
       "      <td>8.6250</td>\n",
       "      <td>0.2245</td>\n",
       "      <td>42.9571</td>\n",
       "      <td>3.8252</td>\n",
       "      <td>4.5533</td>\n",
       "      <td>5.5709</td>\n",
       "      <td>2.2329</td>\n",
       "      <td>93.8871</td>\n",
       "      <td>146.5820</td>\n",
       "    </tr>\n",
       "    <tr>\n",
       "      <th>2214</th>\n",
       "      <td>8.5469</td>\n",
       "      <td>0.2401</td>\n",
       "      <td>31.6198</td>\n",
       "      <td>0.4185</td>\n",
       "      <td>0.3816</td>\n",
       "      <td>4.9895</td>\n",
       "      <td>2.2268</td>\n",
       "      <td>93.0115</td>\n",
       "      <td>161.6765</td>\n",
       "    </tr>\n",
       "    <tr>\n",
       "      <th>2215</th>\n",
       "      <td>8.6250</td>\n",
       "      <td>0.0667</td>\n",
       "      <td>6.1497</td>\n",
       "      <td>6.6133</td>\n",
       "      <td>6.5129</td>\n",
       "      <td>8.4379</td>\n",
       "      <td>2.6042</td>\n",
       "      <td>61.3967</td>\n",
       "      <td>112.0019</td>\n",
       "    </tr>\n",
       "    <tr>\n",
       "      <th>2216</th>\n",
       "      <td>8.6250</td>\n",
       "      <td>0.1110</td>\n",
       "      <td>26.9884</td>\n",
       "      <td>3.7991</td>\n",
       "      <td>4.6181</td>\n",
       "      <td>8.0452</td>\n",
       "      <td>2.6040</td>\n",
       "      <td>73.7051</td>\n",
       "      <td>137.8335</td>\n",
       "    </tr>\n",
       "  </tbody>\n",
       "</table>\n",
       "<p>2217 rows × 9 columns</p>\n",
       "</div>"
      ],
      "text/plain": [
       "         CAL     CNC        GR      HRD      HRM      PE    ZDEN       DTC  \\\n",
       "0     8.6719  0.1199    6.7518   2.8285   3.0391  8.4395  2.5191   67.5481   \n",
       "1     8.6719  0.3180  165.4345   1.3170   1.2206  7.1354  2.5517  101.5208   \n",
       "2     8.7031  0.3164   58.3146   1.1627   1.8947  8.1722  2.4452  110.8297   \n",
       "3     8.6250  0.1527   44.5126   2.5318   3.0052  7.6534  2.5674   80.0383   \n",
       "4     8.6250  0.1731   16.1563  13.5082  13.0191  5.1534  2.2164   85.6109   \n",
       "...      ...     ...       ...      ...      ...     ...     ...       ...   \n",
       "2212  8.6875  0.1228    9.4853   2.8712   3.0468  8.2976  2.5381   69.6183   \n",
       "2213  8.6250  0.2245   42.9571   3.8252   4.5533  5.5709  2.2329   93.8871   \n",
       "2214  8.5469  0.2401   31.6198   0.4185   0.3816  4.9895  2.2268   93.0115   \n",
       "2215  8.6250  0.0667    6.1497   6.6133   6.5129  8.4379  2.6042   61.3967   \n",
       "2216  8.6250  0.1110   26.9884   3.7991   4.6181  8.0452  2.6040   73.7051   \n",
       "\n",
       "           DTS  \n",
       "0     124.2332  \n",
       "1     201.2649  \n",
       "2     250.7232  \n",
       "3     147.3262  \n",
       "4     134.4386  \n",
       "...        ...  \n",
       "2212  127.9044  \n",
       "2213  146.5820  \n",
       "2214  161.6765  \n",
       "2215  112.0019  \n",
       "2216  137.8335  \n",
       "\n",
       "[2217 rows x 9 columns]"
      ]
     },
     "execution_count": 10,
     "metadata": {},
     "output_type": "execute_result"
    }
   ],
   "source": [
    "dt"
   ]
  },
  {
   "cell_type": "code",
   "execution_count": 11,
   "id": "e27f5031",
   "metadata": {},
   "outputs": [],
   "source": [
    "depth_train= np.linspace(500,4000,len(df1))\n",
    "depth_dt= np.linspace(1500,3000,len(dt))"
   ]
  },
  {
   "cell_type": "code",
   "execution_count": 12,
   "id": "8b0ef993",
   "metadata": {},
   "outputs": [],
   "source": [
    "df1['Depth']= depth_train\n",
    "dt['Depth']= depth_dt"
   ]
  },
  {
   "cell_type": "markdown",
   "id": "df8d3020",
   "metadata": {},
   "source": [
    "Prediction with transformation"
   ]
  },
  {
   "cell_type": "code",
   "execution_count": 14,
   "id": "29b8eed6",
   "metadata": {},
   "outputs": [],
   "source": [
    "#cD From wavelet db4\n",
    "dwt_db4_cD_df = make_dwt_vars_cD(wells_df=df1, logs=['CNC'],levels=[1, 2, 3, 4], wavelet='haar')\n",
    "\n",
    "# cA From wavelet db4\n",
    "dwt_db4_cA_df = make_dwt_vars_cA(wells_df=df1, logs=['CNC'],levels=[1, 2, 3, 4], wavelet='haar')"
   ]
  },
  {
   "cell_type": "code",
   "execution_count": 15,
   "id": "3984bdc3",
   "metadata": {},
   "outputs": [
    {
     "name": "stdout",
     "output_type": "stream",
     "text": [
      "(301430, 18)\n"
     ]
    }
   ],
   "source": [
    "list_df_var = [dwt_db4_cD_df, dwt_db4_cA_df]\n",
    "combined_df = df1\n",
    "for var_df in list_df_var:\n",
    "    temp_df = var_df\n",
    "    combined_df = pd.concat([combined_df,temp_df],axis=1)\n",
    "combined_df.replace(to_replace=np.nan, value='-1', inplace=True)\n",
    "print (combined_df.shape)\n",
    "training_data=combined_df"
   ]
  },
  {
   "cell_type": "code",
   "execution_count": 16,
   "id": "9892b077",
   "metadata": {},
   "outputs": [],
   "source": [
    "df1 = training_data"
   ]
  },
  {
   "cell_type": "code",
   "execution_count": 17,
   "id": "68897462",
   "metadata": {},
   "outputs": [],
   "source": [
    "from sklearn.model_selection import train_test_split"
   ]
  },
  {
   "cell_type": "code",
   "execution_count": 18,
   "id": "58947723",
   "metadata": {},
   "outputs": [],
   "source": [
    "# Create separate datasets for DTC and DTS\n",
    "df_dtc = df1.dropna(subset=['DTC'])\n",
    "df_dts = df1.dropna(subset=['DTS'])"
   ]
  },
  {
   "cell_type": "code",
   "execution_count": 25,
   "id": "15a38f9c",
   "metadata": {},
   "outputs": [],
   "source": [
    "df_dtc_x = df_dtc.drop(columns=['Depth'])\n",
    "df_dts_x = df_dts.drop(columns=['Depth'])"
   ]
  },
  {
   "cell_type": "code",
   "execution_count": 26,
   "id": "dc356c25",
   "metadata": {},
   "outputs": [],
   "source": [
    "#df_dtc_x = df_dtc.drop(columns=['DTC','DTS'])\n",
    "#df_dts_x = df_dts.drop(columns=['DTC','DTS'])\n",
    "y_dtc = df_dtc['DTC']\n",
    "y_dts = df_dts['DTS']\n",
    "\n",
    "X_train_dtc, X_test_dtc, y_train_dtc, y_test_dtc = train_test_split(df_dtc_x,y_dtc, test_size=0.30, random_state=42, shuffle = True)\n",
    "X_train_dts, X_test_dts, y_train_dts, y_test_dts = train_test_split(df_dts_x,y_dts, test_size=0.30, random_state=42, shuffle = True)"
   ]
  },
  {
   "cell_type": "code",
   "execution_count": 27,
   "id": "129b467c",
   "metadata": {},
   "outputs": [],
   "source": [
    "import xgboost as xgb"
   ]
  },
  {
   "cell_type": "markdown",
   "id": "62d5935c",
   "metadata": {},
   "source": [
    "For DTC"
   ]
  },
  {
   "cell_type": "code",
   "execution_count": 28,
   "id": "9a81e4bf",
   "metadata": {},
   "outputs": [],
   "source": [
    "xgb_model_dtc = xgb.XGBRegressor(random_state=42, max_depth=2,learning_rate=0.18, n_estimators=145, min_child_weight = 6, gamma = 0.3)"
   ]
  },
  {
   "cell_type": "code",
   "execution_count": 29,
   "id": "08598fc2",
   "metadata": {},
   "outputs": [],
   "source": [
    "from sklearn.metrics import r2_score, mean_squared_error"
   ]
  },
  {
   "cell_type": "code",
   "execution_count": 35,
   "id": "0f97bf99",
   "metadata": {},
   "outputs": [
    {
     "name": "stderr",
     "output_type": "stream",
     "text": [
      "<ipython-input-35-6123859bbd5f>:3: SettingWithCopyWarning: \n",
      "A value is trying to be set on a copy of a slice from a DataFrame.\n",
      "Try using .loc[row_indexer,col_indexer] = value instead\n",
      "\n",
      "See the caveats in the documentation: https://pandas.pydata.org/pandas-docs/stable/user_guide/indexing.html#returning-a-view-versus-a-copy\n",
      "  X_train_dts[col]= X_train_dts[col].astype('float')\n"
     ]
    },
    {
     "data": {
      "text/plain": [
       "CAL               float64\n",
       "CNC               float64\n",
       "GR                float64\n",
       "HRD               float64\n",
       "HRM               float64\n",
       "PE                float64\n",
       "ZDEN              float64\n",
       "DTC               float64\n",
       "DTS               float64\n",
       "CNC_cD_level_1    float64\n",
       "CNC_cD_level_2    float64\n",
       "CNC_cD_level_3    float64\n",
       "CNC_cD_level_4    float64\n",
       "CNC_cA_level_1    float64\n",
       "CNC_cA_level_2    float64\n",
       "CNC_cA_level_3    float64\n",
       "CNC_cA_level_4    float64\n",
       "dtype: object"
      ]
     },
     "execution_count": 35,
     "metadata": {},
     "output_type": "execute_result"
    }
   ],
   "source": [
    "cols= X_train_dts.columns\n",
    "for col in cols :\n",
    "    X_train_dts[col]= X_train_dts[col].astype('float')\n",
    "X_train_dts.dtypes"
   ]
  },
  {
   "cell_type": "code",
   "execution_count": 32,
   "id": "eced4636",
   "metadata": {},
   "outputs": [],
   "source": [
    "cols= X_train_dtc.columns"
   ]
  },
  {
   "cell_type": "code",
   "execution_count": 33,
   "id": "2e47b664",
   "metadata": {},
   "outputs": [
    {
     "name": "stderr",
     "output_type": "stream",
     "text": [
      "<ipython-input-33-6b99cb9c3e45>:2: SettingWithCopyWarning: \n",
      "A value is trying to be set on a copy of a slice from a DataFrame.\n",
      "Try using .loc[row_indexer,col_indexer] = value instead\n",
      "\n",
      "See the caveats in the documentation: https://pandas.pydata.org/pandas-docs/stable/user_guide/indexing.html#returning-a-view-versus-a-copy\n",
      "  X_train_dtc[col]= X_train_dtc[col].astype('float')\n"
     ]
    },
    {
     "data": {
      "text/plain": [
       "CAL               float64\n",
       "CNC               float64\n",
       "GR                float64\n",
       "HRD               float64\n",
       "HRM               float64\n",
       "PE                float64\n",
       "ZDEN              float64\n",
       "DTC               float64\n",
       "DTS               float64\n",
       "CNC_cD_level_1    float64\n",
       "CNC_cD_level_2    float64\n",
       "CNC_cD_level_3    float64\n",
       "CNC_cD_level_4    float64\n",
       "CNC_cA_level_1    float64\n",
       "CNC_cA_level_2    float64\n",
       "CNC_cA_level_3    float64\n",
       "CNC_cA_level_4    float64\n",
       "dtype: object"
      ]
     },
     "execution_count": 33,
     "metadata": {},
     "output_type": "execute_result"
    }
   ],
   "source": [
    "for col in cols :\n",
    "    X_train_dtc[col]= X_train_dtc[col].astype('float')\n",
    "X_train_dtc.dtypes"
   ]
  },
  {
   "cell_type": "code",
   "execution_count": 34,
   "id": "bd1532eb",
   "metadata": {},
   "outputs": [
    {
     "name": "stdout",
     "output_type": "stream",
     "text": [
      "RMSE_train:     0.3906521539811876\n",
      "RMSE_test:     0.3940607189258664\n",
      "R2_train:     0.9998992004356076\n",
      "R2_test:     0.9998977547254873\n"
     ]
    }
   ],
   "source": [
    "xgb_model_dtc.fit(X_train_dtc, y_train_dtc)\n",
    "y_pred_test_dtc = xgb_model_dtc.predict(X_test_dtc)\n",
    "y_pred_train_dtc = xgb_model_dtc.predict(X_train_dtc)\n",
    "print(\"RMSE_train:     \" + str(np.sqrt(mean_squared_error(y_train_dtc,y_pred_train_dtc))))\n",
    "print(\"RMSE_test:     \" + str(np.sqrt(mean_squared_error(y_test_dtc,y_pred_test_dtc))))\n",
    "print(\"R2_train:     \" + str(r2_score(y_train_dtc,y_pred_train_dtc)))\n",
    "print(\"R2_test:     \" + str(r2_score(y_test_dtc,y_pred_test_dtc)))"
   ]
  },
  {
   "cell_type": "markdown",
   "id": "342fe2f4",
   "metadata": {},
   "source": [
    "For DTS"
   ]
  },
  {
   "cell_type": "code",
   "execution_count": 36,
   "id": "cb46834a",
   "metadata": {},
   "outputs": [],
   "source": [
    "xgb_model_dts = xgb.XGBRegressor(random_state=42, max_depth=7,learning_rate=0.19, n_estimators=135, min_child_weight = 6, gamma = 0.7)"
   ]
  },
  {
   "cell_type": "code",
   "execution_count": 37,
   "id": "b726aa4f",
   "metadata": {},
   "outputs": [
    {
     "name": "stdout",
     "output_type": "stream",
     "text": [
      "RMSE_train:     0.1179749909685302\n",
      "RMSE_test:     0.12137111930342806\n",
      "R2_train:     0.9999986068431783\n",
      "R2_test:     0.9999985240773671\n"
     ]
    }
   ],
   "source": [
    "xgb_model_dts.fit(X_train_dts, y_train_dts)\n",
    "y_pred_test_dts = xgb_model_dts.predict(X_test_dts)\n",
    "y_pred_train_dts = xgb_model_dts.predict(X_train_dts)\n",
    "print(\"RMSE_train:     \" + str(np.sqrt(mean_squared_error(y_train_dts,y_pred_train_dts))))\n",
    "print(\"RMSE_test:     \" + str(np.sqrt(mean_squared_error(y_test_dts,y_pred_test_dts))))\n",
    "print(\"R2_train:     \" + str(r2_score(y_train_dts,y_pred_train_dts)))\n",
    "print(\"R2_test:     \" + str(r2_score(y_test_dts,y_pred_test_dts)))"
   ]
  },
  {
   "cell_type": "markdown",
   "id": "1321c11d",
   "metadata": {},
   "source": [
    "Prediction on small test data"
   ]
  },
  {
   "cell_type": "code",
   "execution_count": 38,
   "id": "22dfe69e",
   "metadata": {},
   "outputs": [],
   "source": [
    "def result_plot(y_predict, y_real):\n",
    "    # check the accuracy of predicted data and plot the result\n",
    "    print('Combined r2 score is:', '{:.5f}'.format(np.sqrt(r2_score(y_real, y_predict))))\n",
    "    dtc_real = y_real[:, 0]\n",
    "    dtc_pred = y_predict[:, 0]\n",
    "    dts_real = y_real[:, 1]\n",
    "    dts_pred = y_predict[:, 1]\n",
    "    print('DTC:', '{:.5f}'.format(np.sqrt(r2_score(dtc_real, dtc_pred))))\n",
    "    print('DTS:', '{:.5f}'.format(np.sqrt(r2_score(dts_real, dts_pred))))\n",
    "    plt.subplots(nrows=2, ncols=2, figsize=(16,10))\n",
    "    plt.subplot(2, 2, 1)\n",
    "    plt.plot(y_real[:, 0])\n",
    "    plt.plot(y_predict[:, 0])\n",
    "    plt.legend(['True', 'Predicted'])\n",
    "    plt.xlabel('Sample')\n",
    "    plt.ylabel('DTC')\n",
    "    plt.title('DTC Prediction Comparison')\n",
    "\n",
    "    plt.subplot(2, 2, 2)\n",
    "    plt.plot(y_real[:, 1])\n",
    "    plt.plot(y_predict[:, 1])\n",
    "    plt.legend(['True', 'Predicted'])\n",
    "    plt.xlabel('Sample')\n",
    "    plt.ylabel('DTS')\n",
    "    plt.title('DTS Prediction Comparison')\n",
    "    \n",
    "    plt.subplot(2, 2, 3)\n",
    "    plt.scatter(y_real[:, 0], y_predict[:, 0])\n",
    "    plt.xlabel('Real Value')\n",
    "    plt.ylabel('Predicted Value')\n",
    "    plt.title('DTC Prediction Comparison')\n",
    "    \n",
    "    plt.subplot(2, 2, 4)\n",
    "    plt.scatter(y_real[:, 1], y_predict[:, 1])\n",
    "    plt.xlabel('Real Value')\n",
    "    plt.ylabel('Predicted Value')\n",
    "    plt.title('DTS Prediction Comparison')\n",
    "\n",
    "    plt.show()"
   ]
  },
  {
   "cell_type": "code",
   "execution_count": 39,
   "id": "0c01b9f2",
   "metadata": {},
   "outputs": [],
   "source": [
    "# Replace value -999 ( missing value indicators ) as NA\n",
    "dt.replace(['-999', -999], np.nan, inplace=True)\n",
    "# Nullify the Negative Values\n",
    "dt['CNC'][dt['CNC']<0] = np.nan\n",
    "dt['GR'][dt['GR']<0] = np.nan\n",
    "dt['PE'][dt['PE']<0] = np.nan\n",
    "dt['ZDEN'][dt['ZDEN']<0] = np.nan\n",
    "# Nullify the Outliers\n",
    "dt['CNC'][dt['CNC']>0.7] = np.nan\n",
    "dt['GR'][(dt['GR']>250)] = np.nan\n",
    "dt['HRD'][dt['HRD']>200] = np.nan\n",
    "dt['HRM'][dt['HRM']>200] = np.nan\n",
    "# Log Transformation\n",
    "dt['HRD'] = np.log(dt['HRD'])\n",
    "dt['HRM'] = np.log(dt['HRM'])"
   ]
  },
  {
   "cell_type": "code",
   "execution_count": 41,
   "id": "250fe30b",
   "metadata": {},
   "outputs": [],
   "source": [
    "#cD From wavelet db4\n",
    "dwt_db4_cD_df = make_dwt_vars_cD(wells_df=dt, logs=['CNC'],levels=[1, 2, 3, 4], wavelet='haar')\n",
    "\n",
    "# cA From wavelet db4\n",
    "dwt_db4_cA_df = make_dwt_vars_cA(wells_df=dt, logs=['CNC'],levels=[1, 2, 3, 4], wavelet='haar')"
   ]
  },
  {
   "cell_type": "code",
   "execution_count": 42,
   "id": "6b5a23ba",
   "metadata": {},
   "outputs": [
    {
     "name": "stdout",
     "output_type": "stream",
     "text": [
      "(22170, 18)\n"
     ]
    }
   ],
   "source": [
    "list_df_var = [dwt_db4_cD_df, dwt_db4_cA_df]\n",
    "combined_df = dt\n",
    "for var_df in list_df_var:\n",
    "    temp_df = var_df\n",
    "    combined_df = pd.concat([combined_df,temp_df],axis=1)\n",
    "combined_df.replace(to_replace=np.nan, value='-1', inplace=True)\n",
    "print (combined_df.shape)\n",
    "training_data=combined_df"
   ]
  },
  {
   "cell_type": "code",
   "execution_count": 43,
   "id": "b29ff0e3",
   "metadata": {},
   "outputs": [],
   "source": [
    "dt= training_data"
   ]
  },
  {
   "cell_type": "code",
   "execution_count": 44,
   "id": "96c40eab",
   "metadata": {},
   "outputs": [
    {
     "data": {
      "text/plain": [
       "Index(['CAL', 'CNC', 'GR', 'HRD', 'HRM', 'PE', 'ZDEN', 'DTC', 'DTS', 'Depth',\n",
       "       'CNC_cD_level_1', 'CNC_cD_level_2', 'CNC_cD_level_3', 'CNC_cD_level_4',\n",
       "       'CNC_cA_level_1', 'CNC_cA_level_2', 'CNC_cA_level_3', 'CNC_cA_level_4'],\n",
       "      dtype='object')"
      ]
     },
     "execution_count": 44,
     "metadata": {},
     "output_type": "execute_result"
    }
   ],
   "source": [
    "dt.columns"
   ]
  },
  {
   "cell_type": "code",
   "execution_count": 48,
   "id": "a16d9d2f",
   "metadata": {},
   "outputs": [],
   "source": [
    "dt_x = dt.drop(columns=['Depth'])"
   ]
  },
  {
   "cell_type": "code",
   "execution_count": 45,
   "id": "37c53f65",
   "metadata": {},
   "outputs": [],
   "source": [
    "dt_x = dt.drop(columns=['DTC','DTS'])"
   ]
  },
  {
   "cell_type": "code",
   "execution_count": 46,
   "id": "5ac1823b",
   "metadata": {},
   "outputs": [],
   "source": [
    "# Separate the Actual/True Values of DTC and DTS\n",
    "reals = np.array(dt.loc[:,['DTC','DTS']])"
   ]
  },
  {
   "cell_type": "code",
   "execution_count": 49,
   "id": "5666990e",
   "metadata": {},
   "outputs": [],
   "source": [
    "# Predict DTC and DTS using the trained models\n",
    "dtc_predict = xgb_model_dtc.predict(dt_x)\n",
    "dts_predict = xgb_model_dts.predict(dt_x)\n",
    "preds_df = pd.DataFrame({'DTC':dtc_predict,'DTS':dts_predict})\n",
    "preds = np.array(preds_df)"
   ]
  },
  {
   "cell_type": "code",
   "execution_count": 50,
   "id": "6bfa0926",
   "metadata": {},
   "outputs": [
    {
     "name": "stdout",
     "output_type": "stream",
     "text": [
      "Combined r2 score is: 0.99968\n",
      "DTC: 0.99954\n",
      "DTS: 0.99981\n"
     ]
    },
    {
     "data": {
      "image/png": "[encoded data removed]",
      "text/plain": [
       "<Figure size 1152x720 with 4 Axes>"
      ]
     },
     "metadata": {
      "needs_background": "light"
     },
     "output_type": "display_data"
    }
   ],
   "source": [
    "result_plot(preds,reals)"
   ]
  },
  {
   "cell_type": "code",
   "execution_count": 65,
   "id": "9b17f871",
   "metadata": {},
   "outputs": [],
   "source": [
    "dt_true= dt[['DTC','DTS']]"
   ]
  },
  {
   "cell_type": "code",
   "execution_count": 67,
   "id": "038add5e",
   "metadata": {},
   "outputs": [],
   "source": [
    "# Compute estimations:\n",
    "y_20test_ = np.concatenate([dtc.reshape(dtc.shape[0],1), dts.reshape(dts.shape[0],1)], axis=1) \n",
    "y_20true_ = dt_true.values"
   ]
  },
  {
   "cell_type": "code",
   "execution_count": 69,
   "id": "8252bc72",
   "metadata": {},
   "outputs": [
    {
     "data": {
      "text/plain": [
       "array([[ 66.90009, 124.23935],\n",
       "       [ 66.90009, 124.23935],\n",
       "       [ 66.90009, 124.23935],\n",
       "       ...,\n",
       "       [ 74.19155, 137.84264],\n",
       "       [ 74.19155, 137.84264],\n",
       "       [ 74.19155, 137.84264]], dtype=float32)"
      ]
     },
     "execution_count": 69,
     "metadata": {},
     "output_type": "execute_result"
    }
   ],
   "source": [
    "y_20test_"
   ]
  },
  {
   "cell_type": "code",
   "execution_count": 70,
   "id": "c4eea5e9",
   "metadata": {},
   "outputs": [
    {
     "data": {
      "text/plain": [
       "array([[ 67.5481, 124.2332],\n",
       "       [ 67.5481, 124.2332],\n",
       "       [ 67.5481, 124.2332],\n",
       "       ...,\n",
       "       [ 73.7051, 137.8335],\n",
       "       [ 73.7051, 137.8335],\n",
       "       [ 73.7051, 137.8335]])"
      ]
     },
     "execution_count": 70,
     "metadata": {},
     "output_type": "execute_result"
    }
   ],
   "source": [
    "y_20true_"
   ]
  },
  {
   "cell_type": "code",
   "execution_count": 71,
   "id": "942ba416",
   "metadata": {},
   "outputs": [
    {
     "name": "stdout",
     "output_type": "stream",
     "text": [
      "RMSE of test data (#1 DTC): 0.43\n",
      "RMSE of test data (#2 DTS): 0.87\n",
      "Overall RMSE = 0.68\n"
     ]
    },
    {
     "data": {
      "image/png": "[encoded data removed]",
      "text/plain": [
       "<Figure size 1080x360 with 2 Axes>"
      ]
     },
     "metadata": {
      "needs_background": "light"
     },
     "output_type": "display_data"
    }
   ],
   "source": [
    "# Plot results:\n",
    "plt.figure(figsize=(15,5))\n",
    "i = 0\n",
    "plt.subplot(1,2,i+1)\n",
    "plt.plot(y_20test_[:,i], y_20true_[:,i], '.', label = 'r^2 = %.3f' % (r2_score(y_20true_[:,i], y_20test_[:,i])))\n",
    "plt.plot([y_20true_[:,i].min(),y_20true_[:,i].max()],[y_20true_[:,i].min(),y_20true_[:,i].max()], 'r', label = '1:1 line')\n",
    "plt.title('#1 DTC: y_true vs. y_ estimate'); plt.xlabel('Estimate'); plt.ylabel('True')\n",
    "plt.legend()\n",
    "i += 1\n",
    "plt.subplot(1,2,i+1)\n",
    "plt.plot(y_20test_[:,i], y_20true_[:,i], '.', label = 'r^2 = %.3f' % (r2_score(y_20true_[:,i], y_20test_[:,i])))\n",
    "plt.plot([y_20true_[:,i].min(),y_20true_[:,i].max()],[y_20true_[:,i].min(),y_20true_[:,i].max()], 'r', label = '1:1 line')\n",
    "plt.title('#2 DTS: y_true vs. y_ estimate'); plt.xlabel('Estimate'); plt.ylabel('True')\n",
    "plt.legend()\n",
    "\n",
    "MSE_0 = mean_squared_error(y_20true_[:,0], y_20test_[:,0]);\n",
    "RMSE_0 = np.sqrt(mean_squared_error(y_20true_[:,0], y_20test_[:,0]));\n",
    "MSE_1 = mean_squared_error(y_20true_[:,1], y_20test_[:,1]);\n",
    "RMSE_1 = np.sqrt(mean_squared_error(y_20true_[:,1], y_20test_[:,1]));\n",
    "print('RMSE of test data (#1 DTC): %.2f' %(RMSE_0))\n",
    "print('RMSE of test data (#2 DTS): %.2f' %(RMSE_1))\n",
    "print('Overall RMSE = %.2f' %np.sqrt((MSE_0+MSE_1)/2))"
   ]
  },
  {
   "cell_type": "markdown",
   "id": "d71dc3e7",
   "metadata": {},
   "source": []
  },
  {
   "cell_type": "code",
   "execution_count": null,
   "id": "aa0d5e13",
   "metadata": {},
   "outputs": [],
   "source": []
  }
 ],
 "metadata": {
  "kernelspec": {
   "display_name": "Python 3",
   "language": "python",
   "name": "python3"
  },
  "language_info": {
   "codemirror_mode": {
    "name": "ipython",
    "version": 3
   },
   "file_extension": ".py",
   "mimetype": "text/x-python",
   "name": "python",
   "nbconvert_exporter": "python",
   "pygments_lexer": "ipython3",
   "version": "3.8.8"
  }
 },
 "nbformat": 4,
 "nbformat_minor": 5
}
